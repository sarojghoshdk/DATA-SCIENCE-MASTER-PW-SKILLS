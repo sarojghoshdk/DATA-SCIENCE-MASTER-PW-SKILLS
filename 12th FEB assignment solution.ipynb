{
 "cells": [
  {
   "cell_type": "markdown",
   "id": "2bae29b7-63d7-416b-ba2f-790961daf1bd",
   "metadata": {},
   "source": [
    "Q1. What is an Exception in pthon? Write the differen between Exceptions and \n",
    "syntax errors."
   ]
  },
  {
   "cell_type": "markdown",
   "id": "1b8f86f6-dcd1-4fd0-9630-8f2c2e739271",
   "metadata": {},
   "source": [
    "ANSWER:- \n",
    "        Exception:- An exception in Python is an error that occurs during the execution of a program. It may be due to various reasons such as invalid input, division by zero, out of memory, or trying to access an undefined variable. When an exception occurs, the normal flow of the program is disrupted, and the program terminates.\n",
    "        \n",
    "        Differen between Exceptions and syntax errors:- \n",
    "                    The key difference between exceptions and syntax errors is that exceptions occur during the execution of a program, while syntax errors occur before the program is executed. Additionally, exceptions can be handled and resolved programmatically, while syntax errors must be fixed manually by the programmer."
   ]
  },
  {
   "cell_type": "markdown",
   "id": "234045ca-b7dc-45c3-aff3-4504174c7af0",
   "metadata": {},
   "source": [
    "Q2. What happens when an exception is not handled? Explain with an example"
   ]
  },
  {
   "cell_type": "markdown",
   "id": "f1488fe9-cd03-4d5c-a040-41c115f714ca",
   "metadata": {},
   "source": [
    "ANSWER:- When an exception is not handled, the program terminates and generates a traceback(error), which is a detailed report of the error that occurred. The traceback(error) provides information about the line of code where the error occurred, the type of error, and a description of the error."
   ]
  },
  {
   "cell_type": "code",
   "execution_count": 2,
   "id": "044983f1-dde2-4784-8992-8547097d0490",
   "metadata": {},
   "outputs": [
    {
     "name": "stdout",
     "output_type": "stream",
     "text": [
      "5\n"
     ]
    },
    {
     "ename": "ZeroDivisionError",
     "evalue": "integer division or modulo by zero",
     "output_type": "error",
     "traceback": [
      "\u001b[0;31m---------------------------------------------------------------------------\u001b[0m",
      "\u001b[0;31mZeroDivisionError\u001b[0m                         Traceback (most recent call last)",
      "Cell \u001b[0;32mIn[2], line 6\u001b[0m\n\u001b[1;32m      3\u001b[0m     \u001b[38;5;28;01mreturn\u001b[39;00m res\n\u001b[1;32m      5\u001b[0m \u001b[38;5;28mprint\u001b[39m(devide(\u001b[38;5;241m15\u001b[39m , \u001b[38;5;241m3\u001b[39m))\n\u001b[0;32m----> 6\u001b[0m \u001b[38;5;28mprint\u001b[39m(\u001b[43mdevide\u001b[49m\u001b[43m(\u001b[49m\u001b[38;5;241;43m15\u001b[39;49m\u001b[43m \u001b[49m\u001b[43m,\u001b[49m\u001b[43m \u001b[49m\u001b[38;5;241;43m0\u001b[39;49m\u001b[43m)\u001b[49m)\n",
      "Cell \u001b[0;32mIn[2], line 2\u001b[0m, in \u001b[0;36mdevide\u001b[0;34m(x, y)\u001b[0m\n\u001b[1;32m      1\u001b[0m \u001b[38;5;28;01mdef\u001b[39;00m \u001b[38;5;21mdevide\u001b[39m(x , y):\n\u001b[0;32m----> 2\u001b[0m     res \u001b[38;5;241m=\u001b[39m \u001b[43mx\u001b[49m\u001b[43m \u001b[49m\u001b[38;5;241;43m/\u001b[39;49m\u001b[38;5;241;43m/\u001b[39;49m\u001b[43m \u001b[49m\u001b[43my\u001b[49m\n\u001b[1;32m      3\u001b[0m     \u001b[38;5;28;01mreturn\u001b[39;00m res\n",
      "\u001b[0;31mZeroDivisionError\u001b[0m: integer division or modulo by zero"
     ]
    }
   ],
   "source": [
    "def devide(x , y):\n",
    "    res = x // y\n",
    "    return res\n",
    "\n",
    "print(devide(15 , 3))\n",
    "print(devide(15 , 0))"
   ]
  },
  {
   "cell_type": "markdown",
   "id": "ee589b4c-f894-4c81-9bd8-2445dccfc8d4",
   "metadata": {},
   "source": [
    "Q3. Which Python statements are used to catch and handle exceptions? Explain with an example"
   ]
  },
  {
   "cell_type": "markdown",
   "id": "16742d64-89c0-4db3-8f6c-e0ea0c759900",
   "metadata": {},
   "source": [
    "ANSWER:- In Python, exceptions can be caught and handled using the try and except statements. The try block contains the code that might raise an exception, and the except block contains the code that will handle the exception if it occurs.\n",
    "\n",
    "Here is an example of how to use the try and except statements to handle a ZeroDivisionError exception:"
   ]
  },
  {
   "cell_type": "code",
   "execution_count": 8,
   "id": "bb32255e-cbbf-4d57-b3e3-8aac83a7cd85",
   "metadata": {},
   "outputs": [
    {
     "name": "stdout",
     "output_type": "stream",
     "text": [
      "5\n",
      "Can't Devided By Zero\n",
      "None\n"
     ]
    }
   ],
   "source": [
    "def devide(x , y):\n",
    "    \n",
    "    try:\n",
    "        res = x // y\n",
    "        return res\n",
    "    except ZeroDivisionError:\n",
    "        print(\"Can't Devided By Zero\")\n",
    "    else:\n",
    "        print(\"Programme Successfully Excuted\")\n",
    "\n",
    "print(devide(15 , 3))\n",
    "print(devide(15 , 0))    "
   ]
  },
  {
   "cell_type": "markdown",
   "id": "94240e9e-04a4-4e18-8340-5e32c0c3281c",
   "metadata": {},
   "source": [
    "Q4. Explain with an example:\n",
    "\n",
    "--> try and else\n",
    "\n",
    "--> finally\n",
    "\n",
    "--> raise"
   ]
  },
  {
   "cell_type": "markdown",
   "id": "50a60c14-52b0-4f28-ab69-ecec83f044ec",
   "metadata": {},
   "source": [
    "try and else :- try and else statements can be used in combination to handle exceptions in Python.The else block will be excuted once your try will excute without error."
   ]
  },
  {
   "cell_type": "code",
   "execution_count": 25,
   "id": "b125eefd-b08f-48ed-a973-1d86a6effda9",
   "metadata": {},
   "outputs": [
    {
     "name": "stdin",
     "output_type": "stream",
     "text": [
      "1st no 15\n",
      "2nd no 5\n"
     ]
    },
    {
     "name": "stdout",
     "output_type": "stream",
     "text": [
      "3\n",
      "Programme Successfully Excuted\n"
     ]
    }
   ],
   "source": [
    "#example:-\n",
    "x = int(input(\"1st no\"))  # 15\n",
    "y = int(input(\"2nd no\"))  # 5\n",
    "    \n",
    "try:\n",
    "    res = x // y\n",
    "    print (res)  # 3\n",
    "except ZeroDivisionError:\n",
    "    print(\"Can't Devided By Zero\")\n",
    "else:\n",
    "    print(\"Programme Successfully Excuted\")"
   ]
  },
  {
   "cell_type": "markdown",
   "id": "8b03589f-dbbe-492e-9e17-ae133c9d82d7",
   "metadata": {},
   "source": [
    "finally:- \n",
    "         The finally statement in Python is used to specify a block of code that should be executed regardless of whether an exception occurs or not."
   ]
  },
  {
   "cell_type": "code",
   "execution_count": 26,
   "id": "6ea7e22c-71fd-41ca-8257-8783ab52a812",
   "metadata": {},
   "outputs": [
    {
     "name": "stdout",
     "output_type": "stream",
     "text": [
      "This is finally block it excuted at any condition\n",
      "5\n",
      "Can't Devided By Zero\n",
      "This is finally block it excuted at any condition\n",
      "None\n"
     ]
    }
   ],
   "source": [
    "def devide(x , y):\n",
    "    \n",
    "    try:\n",
    "        res = x // y\n",
    "        return res\n",
    "    except ZeroDivisionError:\n",
    "        print(\"Can't Devided By Zero\")\n",
    "    finally:\n",
    "        print(\"This is finally block it excuted at any condition\")\n",
    "\n",
    "print(devide(15 , 3))\n",
    "print(devide(15 , 0))    "
   ]
  },
  {
   "cell_type": "markdown",
   "id": "927b125d-7f2b-4050-be19-ead951eabab2",
   "metadata": {},
   "source": [
    "raise:- The raise keyword is used to raise an exception.\n",
    "\n",
    "You can define what kind of error to raise, and the text to print to the user."
   ]
  },
  {
   "cell_type": "code",
   "execution_count": 28,
   "id": "d5beb952-54fd-441f-b7c7-f9cc0b703f26",
   "metadata": {},
   "outputs": [
    {
     "name": "stdin",
     "output_type": "stream",
     "text": [
      "enter your age -25\n"
     ]
    },
    {
     "name": "stdout",
     "output_type": "stream",
     "text": [
      "entered age is negative\n"
     ]
    }
   ],
   "source": [
    "# example\n",
    "\n",
    "class validateage(Exception):\n",
    "    \n",
    "    def __init__(self , msg):\n",
    "        self.msg = msg\n",
    "        \n",
    "def validaateage(age):\n",
    "    if age < 0:\n",
    "        raise validateage(\"entered age is negative\")\n",
    "    elif age > 200:\n",
    "        raise validateage(\"entered age is very very high\")\n",
    "    else:\n",
    "        print(\"age is valid\")\n",
    "        \n",
    "try :\n",
    "    age = int(input(\"enter your age\" ))\n",
    "    validaateage(age) #it is function\n",
    "except validateage as e :  # it is class\n",
    "    print(e)"
   ]
  },
  {
   "cell_type": "markdown",
   "id": "0f1113b9-ebdd-498e-8c46-ce188711557e",
   "metadata": {},
   "source": [
    "Q5. What are Custom Exceptions in python? What do we need Custom Exceptions ? Explain in with an example"
   ]
  },
  {
   "cell_type": "markdown",
   "id": "d76c8a38-9b37-4750-8738-5afff8f2aeda",
   "metadata": {},
   "source": [
    "ANSWER:- \n",
    "        Custom Exceptions:- Custom exceptions are user-defined exceptions in Python.\n",
    "    \n",
    "    We need custom exceptions They allow you to define specific types of exceptions for your application, so you can handle errors and exceptions in a more organized and meaningful way.\n",
    "    \n",
    "    For example, consider a scenario where you are taking input age.  you may encounter several different types of errors, such as invalid input, overflow, and divide-by-zero errors. You could handle these errors by raising built-in exceptions, such as ValueError or ZeroDivisionError,but if user enter negative age or very high value of age then this custom exceptions helps for validity of the age. "
   ]
  },
  {
   "cell_type": "code",
   "execution_count": 31,
   "id": "7533b5f7-a3b9-4013-8721-385c8e60aaca",
   "metadata": {},
   "outputs": [
    {
     "name": "stdin",
     "output_type": "stream",
     "text": [
      "enter your age -25\n"
     ]
    },
    {
     "name": "stdout",
     "output_type": "stream",
     "text": [
      "entered age is negative\n"
     ]
    }
   ],
   "source": [
    "# example\n",
    "\n",
    "class validateage(Exception):\n",
    "    \n",
    "    def __init__(self , msg):\n",
    "        self.msg = msg\n",
    "        \n",
    "def validaateage(age):\n",
    "    if age < 0:\n",
    "        raise validateage(\"entered age is negative\")\n",
    "    elif age > 200:\n",
    "        raise validateage(\"entered age is very very high\")\n",
    "    else:\n",
    "        print(\"age is valid\")\n",
    "        \n",
    "try :\n",
    "    age = int(input(\"enter your age\" ))\n",
    "    validaateage(age) #it is function\n",
    "except validateage as e :  # it is class\n",
    "    print(e)"
   ]
  },
  {
   "cell_type": "markdown",
   "id": "d2ba31ec-9867-4af2-aefe-0744ada40208",
   "metadata": {},
   "source": [
    "Q6. Create a custom exception class. Use this class to handle an exception."
   ]
  },
  {
   "cell_type": "code",
   "execution_count": 30,
   "id": "f26a3dde-27ff-42e5-8546-f72d12d8fbef",
   "metadata": {},
   "outputs": [
    {
     "name": "stdin",
     "output_type": "stream",
     "text": [
      "enter your age 258\n"
     ]
    },
    {
     "name": "stdout",
     "output_type": "stream",
     "text": [
      "entered age is very very high\n"
     ]
    }
   ],
   "source": [
    "# example\n",
    "\n",
    "class validateage(Exception):\n",
    "    \n",
    "    def __init__(self , msg):\n",
    "        self.msg = msg\n",
    "        \n",
    "def validaateage(age):\n",
    "    if age < 0:\n",
    "        raise validateage(\"entered age is negative\")\n",
    "    elif age > 200:\n",
    "        raise validateage(\"entered age is very very high\")\n",
    "    else:\n",
    "        print(\"age is valid\")\n",
    "        \n",
    "try :\n",
    "    age = int(input(\"enter your age\" ))\n",
    "    validaateage(age) #it is function\n",
    "except validateage as e :  # it is class\n",
    "    print(e)"
   ]
  },
  {
   "cell_type": "code",
   "execution_count": null,
   "id": "91316f3b-057d-45fe-9fdb-fa51c86c4d09",
   "metadata": {},
   "outputs": [],
   "source": []
  }
 ],
 "metadata": {
  "kernelspec": {
   "display_name": "Python 3 (ipykernel)",
   "language": "python",
   "name": "python3"
  },
  "language_info": {
   "codemirror_mode": {
    "name": "ipython",
    "version": 3
   },
   "file_extension": ".py",
   "mimetype": "text/x-python",
   "name": "python",
   "nbconvert_exporter": "python",
   "pygments_lexer": "ipython3",
   "version": "3.10.8"
  }
 },
 "nbformat": 4,
 "nbformat_minor": 5
}
