{
 "cells": [
  {
   "cell_type": "markdown",
   "id": "3bf2bd82-a832-4fa4-8e48-61a4d3bc9f1a",
   "metadata": {},
   "source": [
    "Q1. Explain Class and Object with respect to Object-Oriented Programming. Give a suitable example."
   ]
  },
  {
   "cell_type": "markdown",
   "id": "1b14e102-8c3f-432a-a6bc-09965a90daa7",
   "metadata": {},
   "source": [
    "ANSWER:- \n",
    "        Class :- A class is a user-defined blueprint or prototype from which objects are created.\n",
    "    \n",
    "        Object:- An object is an instance of a class, created at runtime. \n",
    "                Each object has its own unique set of attributes and methods that operate on that data."
   ]
  },
  {
   "cell_type": "code",
   "execution_count": 2,
   "id": "ecec7e56-ec7a-4593-8092-6a4283d2effb",
   "metadata": {},
   "outputs": [
    {
     "name": "stdout",
     "output_type": "stream",
     "text": [
      "Ram Roy\n",
      "1\n",
      "1st YEAR\n",
      "12345678910\n",
      "('Ram Roy', 1, '1st YEAR', '12345678910')\n"
     ]
    }
   ],
   "source": [
    "class student_details():\n",
    "    \n",
    "    def __init__(self , name , roll , clas , phno):\n",
    "        self.s_name = name\n",
    "        self.s_roll = roll\n",
    "        self.s_class = clas\n",
    "        self.s_phno = phno\n",
    "        \n",
    "    def return_s_details(self):\n",
    "        return self.s_name , self.s_roll , self.s_class , self.s_phno\n",
    "    \n",
    "    \n",
    "ram = student_details(\"Ram Roy\" , 1 , \"1st YEAR\" , \"12345678910\")\n",
    "\n",
    "print(ram.s_name)\n",
    "print(ram.s_roll)\n",
    "print(ram.s_class)\n",
    "print(ram.s_phno)\n",
    "print(ram.return_s_details())"
   ]
  },
  {
   "cell_type": "markdown",
   "id": "40b0c745-f992-414d-852a-72f0cff12173",
   "metadata": {},
   "source": [
    "Q2. Name the four pillars of OOPs."
   ]
  },
  {
   "cell_type": "markdown",
   "id": "4532e56c-b4f6-4516-8a73-2ae29f2d5ea4",
   "metadata": {},
   "source": [
    "ANSWER:- Four pillars of OOPs is \n",
    "            \n",
    "       1--> Inheritance\n",
    "       2--> Polymorphism\n",
    "       3--> Encapsulation  \n",
    "       4--> Abstraction"
   ]
  },
  {
   "cell_type": "markdown",
   "id": "13776aae-f012-4b59-b405-6788cff3c79c",
   "metadata": {},
   "source": [
    "Q3. Explain why the  __init__()  function is used. Give a suitable example."
   ]
  },
  {
   "cell_type": "markdown",
   "id": "553ed76f-0ace-48d4-b6fc-59d83c17db76",
   "metadata": {},
   "source": [
    "ANSWER:- The __init__ method is a special method in Python classes that acts as a constructor. \n",
    "It is automatically called when an object of the class is created. \n",
    "The __init__ method is used to initialize the attributes of the class and set the values when the object\n",
    "class is created."
   ]
  },
  {
   "cell_type": "code",
   "execution_count": 1,
   "id": "ba8585f7-240b-46ca-baea-776aa3c687cc",
   "metadata": {},
   "outputs": [
    {
     "name": "stdout",
     "output_type": "stream",
     "text": [
      "Ram Roy\n",
      "1\n",
      "1st YEAR\n",
      "12345678910\n",
      "('Ram Roy', 1, '1st YEAR', '12345678910')\n"
     ]
    }
   ],
   "source": [
    "class student_details():\n",
    "    \n",
    "    def __init__(self , name , roll , clas , phno):\n",
    "        self.s_name = name\n",
    "        self.s_roll = roll\n",
    "        self.s_class = clas\n",
    "        self.s_phno = phno\n",
    "        \n",
    "    def return_s_details(self):\n",
    "        return self.s_name , self.s_roll , self.s_class , self.s_phno\n",
    "    \n",
    "    \n",
    "ram = student_details(\"Ram Roy\" , 1 , \"1st YEAR\" , \"12345678910\")\n",
    "\n",
    "print(ram.s_name)\n",
    "print(ram.s_roll)\n",
    "print(ram.s_class)\n",
    "print(ram.s_phno)\n",
    "print(ram.return_s_details())"
   ]
  },
  {
   "cell_type": "markdown",
   "id": "59b6ced2-0bcf-4f16-9798-82798fe8d71d",
   "metadata": {},
   "source": [
    "Q4. Why self is used in OOPs?"
   ]
  },
  {
   "cell_type": "markdown",
   "id": "41ceaef2-253c-4c99-8faa-ecf4eacc7207",
   "metadata": {},
   "source": [
    "ANSWER:- self is a reference to the current instance of the class.\n",
    "By using the “self”  we can access the attributes and methods of the class in python. \n",
    "It binds the attributes with the given class."
   ]
  },
  {
   "cell_type": "markdown",
   "id": "bacb2f1e-5bd3-4633-9bc2-880bf17dfd46",
   "metadata": {},
   "source": [
    "Q5. What is inheritance? Give an example for each type of inheritance."
   ]
  },
  {
   "cell_type": "markdown",
   "id": "7ffa65c9-f3da-413f-9634-0248af037703",
   "metadata": {},
   "source": [
    "INHERITANCE:- \n",
    "            inheritance is a mechanism of object oriented programming. that allows a new class to be derived from an existing class,inheritaing its attributes and behaviour.This is useful for creating new class because it is related to excisting class and same of their functionality."
   ]
  },
  {
   "cell_type": "markdown",
   "id": "5043b6e7-57d3-4732-8aa5-3da8cfc8a924",
   "metadata": {},
   "source": [
    "Types of Inheritance :-"
   ]
  },
  {
   "cell_type": "markdown",
   "id": "037e379d-4f25-4253-9e49-0ee160d47345",
   "metadata": {},
   "source": [
    "1. Single Inheritance:- \n",
    "                    single inheritance inherit the properties from single parent class."
   ]
  },
  {
   "cell_type": "code",
   "execution_count": 2,
   "id": "e13a93af-12fc-4cd5-a2fe-77356aafc29f",
   "metadata": {},
   "outputs": [
    {
     "name": "stdout",
     "output_type": "stream",
     "text": [
      "This is parent class\n",
      "This is child cxlass\n"
     ]
    }
   ],
   "source": [
    "class parent:\n",
    "    def func_parent(self):\n",
    "        print(\"This is parent class\")\n",
    "        \n",
    "class child(parent):\n",
    "    def func_child(self):\n",
    "        print(\"This is child cxlass\")\n",
    "        \n",
    "child_obj = child()\n",
    "child_obj.func_parent()\n",
    "child_obj.func_child()"
   ]
  },
  {
   "cell_type": "markdown",
   "id": "c22672de-396d-4f85-8b23-d67af97f9a27",
   "metadata": {},
   "source": [
    "2. Multilevel Inheritance:- \n",
    "                In multilevel inheritance, features of the base class and the derived class are further inherited into the new derived class. This is similar to a relationship representing a child and a grandfather."
   ]
  },
  {
   "cell_type": "code",
   "execution_count": 6,
   "id": "2314dd9d-f419-4c38-9305-d81d8c7d4c63",
   "metadata": {},
   "outputs": [
    {
     "name": "stdout",
     "output_type": "stream",
     "text": [
      "This is grandfather Class\n",
      "This is father Class\n",
      "this is son class\n"
     ]
    }
   ],
   "source": [
    "class grandfather:            # Base Class \n",
    "    def func_grandfather(self):\n",
    "        print(\"This is grandfather Class\")\n",
    "        \n",
    "class father(grandfather):    # Derived Class \n",
    "    def func_father(self):\n",
    "        print(\"This is father Class\")\n",
    "        \n",
    "class son(father):           # New Derived Class\n",
    "    def func_son(self):\n",
    "        print(\"this is son class\")\n",
    "        \n",
    "son_obj = son()\n",
    "son_obj.func_grandfather()\n",
    "son_obj.func_father()\n",
    "son_obj.func_son()"
   ]
  },
  {
   "cell_type": "markdown",
   "id": "37115c74-6a4a-4834-8769-6721341620ff",
   "metadata": {},
   "source": [
    "3. Multiple Inheritance:-\n",
    "                When a class can be derived from more than one base class this type of inheritance is called multiple inheritances. In multiple inheritances, all the features of the base classes are inherited into the derived class."
   ]
  },
  {
   "cell_type": "code",
   "execution_count": 9,
   "id": "b29ee4ad-9533-43b4-8cd1-505a9adf5e9a",
   "metadata": {},
   "outputs": [
    {
     "name": "stdout",
     "output_type": "stream",
     "text": [
      "this is father class\n",
      "this is mother class\n",
      "this is son class\n"
     ]
    }
   ],
   "source": [
    "class mother:         # Base class\n",
    "    def func_mother(self):\n",
    "        print(\"this is mother class\")\n",
    "        \n",
    "class father:        # Base class\n",
    "    def func_father(self):\n",
    "        print(\"this is father class\")\n",
    "        \n",
    "class son(mother , father):     # A class more than one base class is derived \n",
    "    def func_son(self):\n",
    "        print(\"this is son class\")\n",
    "        \n",
    "son_obj = son()\n",
    "son_obj.func_father()\n",
    "son_obj.func_mother()\n",
    "son_obj.func_son()"
   ]
  },
  {
   "cell_type": "code",
   "execution_count": null,
   "id": "5efe518d-d71e-4506-8dc9-9af0bc0a711d",
   "metadata": {},
   "outputs": [],
   "source": []
  }
 ],
 "metadata": {
  "kernelspec": {
   "display_name": "Python 3 (ipykernel)",
   "language": "python",
   "name": "python3"
  },
  "language_info": {
   "codemirror_mode": {
    "name": "ipython",
    "version": 3
   },
   "file_extension": ".py",
   "mimetype": "text/x-python",
   "name": "python",
   "nbconvert_exporter": "python",
   "pygments_lexer": "ipython3",
   "version": "3.10.8"
  }
 },
 "nbformat": 4,
 "nbformat_minor": 5
}
