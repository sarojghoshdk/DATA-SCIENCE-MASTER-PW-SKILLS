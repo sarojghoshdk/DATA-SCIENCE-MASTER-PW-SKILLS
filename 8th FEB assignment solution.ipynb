{
 "cells": [
  {
   "cell_type": "markdown",
   "id": "65c8774b-eaac-45c3-9291-9d105916d353",
   "metadata": {},
   "source": [
    "Q1. What is Abstraction in OOps? Explain with an example."
   ]
  },
  {
   "cell_type": "markdown",
   "id": "5b359f41-7109-4f28-8bcf-bd2ea08a3721",
   "metadata": {},
   "source": [
    "ABSTRACTION:- This is one of the core concepts of object-oriented programming (OOP) languages.\n",
    "            An abstract class or abstraction can be considered as a blueprint for other classes."
   ]
  },
  {
   "cell_type": "code",
   "execution_count": 5,
   "id": "bd9f0c81-c7e1-44ab-a49e-b598029e72b0",
   "metadata": {},
   "outputs": [
    {
     "name": "stdout",
     "output_type": "stream",
     "text": [
      "Mielage is 60 kmph\n",
      "Made of Year is 2010\n",
      "\n",
      "\n",
      "Mielage is 40 kmph\n",
      "Made of Year is 2015\n",
      "\n",
      "\n",
      "Mielage is 90 kmph\n",
      "Made of Year is 2020\n",
      "\n",
      "\n"
     ]
    }
   ],
   "source": [
    "import abc\n",
    "class car:\n",
    "    \n",
    "    @abc.abstractmethod\n",
    "    def mielage(self):\n",
    "        pass\n",
    "    \n",
    "    @abc.abstractmethod\n",
    "    def year(self):\n",
    "        pass\n",
    "    \n",
    "class tesla(car):\n",
    "    def mielage(self):\n",
    "        return \"Mielage is 60 kmph\"\n",
    "    def year(self):\n",
    "        return \"Made of Year is 2010\"\n",
    "    \n",
    "class nano(car):\n",
    "    def mielage(self):\n",
    "        return \"Mielage is 40 kmph\"\n",
    "    def year(self):\n",
    "        return \"Made of Year is 2015\"\n",
    "    \n",
    "class jagur(car):\n",
    "    def mielage(self):\n",
    "        return \"Mielage is 90 kmph\"\n",
    "    def year(self):\n",
    "        return \"Made of Year is 2020\"\n",
    "\n",
    "    \n",
    "tesla_obj = tesla()\n",
    "print(tesla_obj.mielage())\n",
    "print(tesla_obj.year())\n",
    "print(\"\\n\")\n",
    "\n",
    "nano_obj = nano()\n",
    "print(nano_obj.mielage())\n",
    "print(nano_obj.year())\n",
    "print(\"\\n\")\n",
    "\n",
    "jagur_obj = jagur()\n",
    "print(jagur_obj.mielage())\n",
    "print(jagur_obj.year())\n",
    "print(\"\\n\")"
   ]
  },
  {
   "cell_type": "markdown",
   "id": "5100f28a-b666-46a0-a77b-5238f78ade5a",
   "metadata": {},
   "source": [
    "Q2. Differentiate between Abstraction and Encapsulation. Explain with an example."
   ]
  },
  {
   "cell_type": "markdown",
   "id": "14b72b09-805b-4e61-8503-0fe9a28fddf9",
   "metadata": {},
   "source": [
    "--> Abstraction is hiding the details and implementation of the code.\n",
    "\n",
    "--> Encapsulation is hiding the data and controlling the visibility of the code."
   ]
  },
  {
   "cell_type": "code",
   "execution_count": 6,
   "id": "2219e4d1-117a-4102-8ff3-b7a2bc5a85e8",
   "metadata": {},
   "outputs": [
    {
     "name": "stdout",
     "output_type": "stream",
     "text": [
      "Mielage is 60 kmph\n",
      "Made of Year is 2010\n",
      "\n",
      "\n",
      "Mielage is 40 kmph\n",
      "Made of Year is 2015\n",
      "\n",
      "\n",
      "Mielage is 90 kmph\n",
      "Made of Year is 2020\n",
      "\n",
      "\n"
     ]
    }
   ],
   "source": [
    "# Abstraction Code\n",
    "\n",
    "import abc\n",
    "class car:\n",
    "    \n",
    "    @abc.abstractmethod\n",
    "    def mielage(self):\n",
    "        pass\n",
    "    \n",
    "    @abc.abstractmethod\n",
    "    def year(self):\n",
    "        pass\n",
    "    \n",
    "class tesla(car):\n",
    "    def mielage(self):\n",
    "        return \"Mielage is 60 kmph\"\n",
    "    def year(self):\n",
    "        return \"Made of Year is 2010\"\n",
    "    \n",
    "class nano(car):\n",
    "    def mielage(self):\n",
    "        return \"Mielage is 40 kmph\"\n",
    "    def year(self):\n",
    "        return \"Made of Year is 2015\"\n",
    "    \n",
    "class jagur(car):\n",
    "    def mielage(self):\n",
    "        return \"Mielage is 90 kmph\"\n",
    "    def year(self):\n",
    "        return \"Made of Year is 2020\"\n",
    "\n",
    "    \n",
    "tesla_obj = tesla()\n",
    "print(tesla_obj.mielage())\n",
    "print(tesla_obj.year())\n",
    "print(\"\\n\")\n",
    "\n",
    "nano_obj = nano()\n",
    "print(nano_obj.mielage())\n",
    "print(nano_obj.year())\n",
    "print(\"\\n\")\n",
    "\n",
    "jagur_obj = jagur()\n",
    "print(jagur_obj.mielage())\n",
    "print(jagur_obj.year())\n",
    "print(\"\\n\")"
   ]
  },
  {
   "cell_type": "code",
   "execution_count": 12,
   "id": "df3d9953-79bb-4f65-a8a8-f0234bd9a0eb",
   "metadata": {},
   "outputs": [
    {
     "name": "stdout",
     "output_type": "stream",
     "text": [
      "8000\n",
      "12000\n",
      "Transaction Failure\n",
      "Transaction Successfull\n",
      "7000\n"
     ]
    }
   ],
   "source": [
    "# Encapsulation Code\n",
    "\n",
    "class bank_account:\n",
    "    \n",
    "    def __init__(self , balance):    # it is private function\n",
    "        self.__balance = balance\n",
    "        \n",
    "    def deposite(self , amount):     # it is public function\n",
    "        self.__balance = self.__balance + amount\n",
    "        \n",
    "    def withdraw(self , amount):\n",
    "        if self.__balance >= amount:\n",
    "            self.__balance = self.__balance - amount\n",
    "            return \"Transaction Successfull\"\n",
    "        else:\n",
    "            return \"Transaction Failure\"\n",
    "        \n",
    "    def get_balance(self):\n",
    "        return self.__balance\n",
    "    \n",
    "\n",
    "ram = bank_account(8000)\n",
    "print(ram.get_balance())\n",
    "ram.deposite(4000)\n",
    "print(ram.get_balance())\n",
    "print(ram.withdraw(25000))\n",
    "print(ram.withdraw(5000))\n",
    "print(ram.get_balance())"
   ]
  },
  {
   "cell_type": "markdown",
   "id": "430a5f8b-adf1-4419-b4c2-f610e9220674",
   "metadata": {},
   "source": [
    "Q3. What is abc module in python? Why is it used?"
   ]
  },
  {
   "cell_type": "markdown",
   "id": "a5a5527a-9665-45e4-ab62-ce4054475dde",
   "metadata": {},
   "source": [
    "ANSWER:- \n",
    "        The abc module in Python is the Abstract Base Class module. It is used to define abstract base classes, which provide a way to define interfaces in Python.An abstract base class is a class that can be subclassed.The purpose of an abstract base class is to specify the interface for its subclasses."
   ]
  },
  {
   "cell_type": "markdown",
   "id": "ac8110d3-a98c-4b5f-8e3d-b7293a902667",
   "metadata": {},
   "source": [
    "2nd PART:- The abc module provides a way to create abstract base classes in Python by using the abc class, as well as several decorators and methods to define abstract methods and properties."
   ]
  },
  {
   "cell_type": "markdown",
   "id": "3a71237f-e63f-4bd1-a337-964bb69f8bfd",
   "metadata": {},
   "source": [
    "Q4. How can we achieve data abstraction?"
   ]
  },
  {
   "cell_type": "markdown",
   "id": "13c08b81-15c9-4b32-b788-3a036140d3bd",
   "metadata": {},
   "source": [
    "ANSWER:- Data Abstraction in Python can be achieved through creating abstract classes and inheriting them later.\n",
    "         The abstract class is an interface. Interfaces in OOP enable a class to inherit data and functions from a base class "
   ]
  },
  {
   "cell_type": "markdown",
   "id": "caae6a25-f2aa-4227-93e3-e7ae22b48b5c",
   "metadata": {},
   "source": [
    "Q5. Can we create an instance of an abstract class? Explain your answer."
   ]
  },
  {
   "cell_type": "markdown",
   "id": "2185f877-0ab2-4c67-8095-947bebef86d1",
   "metadata": {},
   "source": [
    "ANSWER:- No, you cannot create an instance of an abstract class. An abstract class is a class that cannot be instantiated on its own, but is intended to be subclassed and have its abstract methods implemented by the subclasses. The purpose of an abstract class is to provide a common interface for a set of related classes."
   ]
  },
  {
   "cell_type": "code",
   "execution_count": null,
   "id": "2c9813d0-e382-49bb-a66c-3aae8bdeb618",
   "metadata": {},
   "outputs": [],
   "source": []
  }
 ],
 "metadata": {
  "kernelspec": {
   "display_name": "Python 3 (ipykernel)",
   "language": "python",
   "name": "python3"
  },
  "language_info": {
   "codemirror_mode": {
    "name": "ipython",
    "version": 3
   },
   "file_extension": ".py",
   "mimetype": "text/x-python",
   "name": "python",
   "nbconvert_exporter": "python",
   "pygments_lexer": "ipython3",
   "version": "3.10.8"
  }
 },
 "nbformat": 4,
 "nbformat_minor": 5
}
