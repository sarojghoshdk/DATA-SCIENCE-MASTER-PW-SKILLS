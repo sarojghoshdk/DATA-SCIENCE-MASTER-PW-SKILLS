{
 "cells": [
  {
   "cell_type": "raw",
   "id": "e71d99e2-fcdf-4d66-a96e-eedc424fbd86",
   "metadata": {},
   "source": [
    " Q1. Explain with an example each when to use a for loop and a while loop.\n"
   ]
  },
  {
   "cell_type": "code",
   "execution_count": 1,
   "id": "f3d74673-1eff-4ee4-ad2a-161e8bcc6950",
   "metadata": {},
   "outputs": [
    {
     "name": "stdout",
     "output_type": "stream",
     "text": [
      "0\n",
      "1\n",
      "2\n",
      "3\n",
      "4\n",
      "5\n",
      "6\n",
      "7\n",
      "8\n",
      "9\n"
     ]
    }
   ],
   "source": [
    "# using for loop\n",
    "for i in range(0,10):\n",
    "    print(i)"
   ]
  },
  {
   "cell_type": "code",
   "execution_count": 2,
   "id": "8378efa8-73d3-4ce3-bf8c-56a72661f7d9",
   "metadata": {},
   "outputs": [
    {
     "name": "stdout",
     "output_type": "stream",
     "text": [
      "0\n",
      "1\n",
      "2\n",
      "3\n",
      "4\n",
      "5\n",
      "6\n",
      "7\n",
      "8\n",
      "9\n"
     ]
    }
   ],
   "source": [
    "# using while loop\n",
    "i = 0\n",
    "while(i < 10):\n",
    "    print(i)\n",
    "    i += 1"
   ]
  },
  {
   "cell_type": "raw",
   "id": "02ffb66d-2bc7-4734-9fed-7046bc27acea",
   "metadata": {},
   "source": [
    "For Loop is used only when the number of iterations is known beforehand.\n",
    "\n",
    "While Loop is used only when the number of iterations isn’t known."
   ]
  },
  {
   "cell_type": "code",
   "execution_count": null,
   "id": "ff068eb9-43f1-4122-9185-9965562b1c77",
   "metadata": {},
   "outputs": [],
   "source": []
  },
  {
   "cell_type": "raw",
   "id": "d24ac914-6441-4565-928e-a7392c3e352a",
   "metadata": {},
   "source": [
    "Q2. Write a python program to print the sum and product of the first 10 natural numbers using for\n",
    "and while loop."
   ]
  },
  {
   "cell_type": "code",
   "execution_count": 3,
   "id": "c53a849a-c70a-4b55-b521-dd8590d00982",
   "metadata": {},
   "outputs": [
    {
     "name": "stdout",
     "output_type": "stream",
     "text": [
      "sum is: 55\n",
      "product is: 3628800\n"
     ]
    }
   ],
   "source": [
    "# using for loop\n",
    "\n",
    "sum1 = 0\n",
    "product = 1\n",
    "for i in range(1,11):\n",
    "    sum1 += i\n",
    "    product *= i\n",
    "print(\"sum is:\",sum1)\n",
    "print(\"product is:\",product)"
   ]
  },
  {
   "cell_type": "code",
   "execution_count": 6,
   "id": "3d9a08af-d9ba-4bcd-964e-950c200e9d5a",
   "metadata": {},
   "outputs": [
    {
     "name": "stdout",
     "output_type": "stream",
     "text": [
      "sum is: 55\n",
      "product is: 3628800\n"
     ]
    }
   ],
   "source": [
    "# using while loop\n",
    "\n",
    "sum1 = 0\n",
    "product = 1\n",
    "i = 1\n",
    "while(i < 11):\n",
    "    sum1 += i\n",
    "    product *= i\n",
    "    i += 1\n",
    "print(\"sum is:\",sum1)\n",
    "print(\"product is:\",product)"
   ]
  },
  {
   "cell_type": "raw",
   "id": "b506373d-476f-46bc-90fc-1a37451741ed",
   "metadata": {},
   "source": [
    "Q3. Create a python program to compute the electricity bill for a household.\n",
    "    \n",
    "    The per-unit charges in rupees are as follows: For the first 100 units, the user will be charged Rs. 4.5 per\n",
    "unit, for the next 100 units, the user will be charged Rs. 6 per unit, and for the next 100 units, the user will\n",
    "be charged Rs. 10 per unit, After 300 units and above the user will be charged Rs. 20 per unit.\n",
    "\n",
    "\n",
    "You are required to take the units of electricity consumed in a month from the user as input.\n",
    "\n",
    "\n",
    "Your program must pass this test case: when the unit of electricity consumed by the user in a month is\n",
    "310, the total electricity bill should be 2250."
   ]
  },
  {
   "cell_type": "code",
   "execution_count": 8,
   "id": "b19d47dd-4840-404b-8064-c5fdc96dedd8",
   "metadata": {},
   "outputs": [
    {
     "name": "stdin",
     "output_type": "stream",
     "text": [
      "enter unit: 310\n"
     ]
    },
    {
     "name": "stdout",
     "output_type": "stream",
     "text": [
      "total bill: 2250\n"
     ]
    }
   ],
   "source": [
    "unit = int(input(\"enter unit:\" ))\n",
    "bill = 0\n",
    "if unit <= 100:\n",
    "    bill += unit*4.5\n",
    "    unit -= 100\n",
    "elif unit > 100 and unit <= 200:\n",
    "    unit -= 100\n",
    "    bill += unit*6 + 450\n",
    "elif unit > 200 and unit <= 300:\n",
    "    unit -= 200\n",
    "    bill += unit*10 + 450 + 600\n",
    "else:\n",
    "    unit -= 300\n",
    "    bill = unit*20 + 450 + 600 + 1000\n",
    "    \n",
    "print(\"total bill:\",bill)"
   ]
  },
  {
   "cell_type": "raw",
   "id": "cf2e0a35-456d-4366-bbe5-e26b7f56a380",
   "metadata": {},
   "source": [
    "Q4. Create a list of numbers from 1 to 100. Use for loop and while loop to calculate the cube of each\n",
    "number and if the cube of that number is divisible by 4 or 5 then append that number in a list and print\n",
    "that list."
   ]
  },
  {
   "cell_type": "code",
   "execution_count": 10,
   "id": "831f8464-7595-4447-b055-606828b9184c",
   "metadata": {},
   "outputs": [
    {
     "name": "stdout",
     "output_type": "stream",
     "text": [
      "[2, 4, 5, 6, 8, 10, 12, 14, 15, 16, 18, 20, 22, 24, 25, 26, 28, 30, 32, 34, 35, 36, 38, 40, 42, 44, 45, 46, 48, 50, 52, 54, 55, 56, 58, 60, 62, 64, 65, 66, 68, 70, 72, 74, 75, 76, 78, 80, 82, 84, 85, 86, 88, 90, 92, 94, 95, 96, 98, 100]\n"
     ]
    }
   ],
   "source": [
    "l = list(range(1,101))\n",
    "l1 = []\n",
    "for i in l:\n",
    "    cube = i**3\n",
    "    if cube % 4 == 0 or cube % 5 == 0:\n",
    "        l1.append(i)\n",
    "print(l1)"
   ]
  },
  {
   "cell_type": "raw",
   "id": "9a7a0e31-4e56-43e3-afca-c6ecaa6781cd",
   "metadata": {},
   "source": [
    "Q5. Write a program to filter count vowels in the below-given string.\n",
    "\n",
    "string = \"I want to become a data scientist\""
   ]
  },
  {
   "cell_type": "code",
   "execution_count": 11,
   "id": "9a8aed59-0e39-4a41-8868-466490e32c38",
   "metadata": {},
   "outputs": [
    {
     "name": "stdin",
     "output_type": "stream",
     "text": [
      "enter string:  I want to become a data scientist\n"
     ]
    },
    {
     "name": "stdout",
     "output_type": "stream",
     "text": [
      "12\n"
     ]
    }
   ],
   "source": [
    "s = str(input(\"enter string: \"))\n",
    "vowel = \"aeiouAEIOU\"\n",
    "count = 0\n",
    "for i in s:\n",
    "    if i in vowel:\n",
    "        count += 1\n",
    "print(count)"
   ]
  },
  {
   "cell_type": "code",
   "execution_count": null,
   "id": "aceb953d-b81d-4437-8a18-3de711ed1b09",
   "metadata": {},
   "outputs": [],
   "source": []
  }
 ],
 "metadata": {
  "kernelspec": {
   "display_name": "Python 3 (ipykernel)",
   "language": "python",
   "name": "python3"
  },
  "language_info": {
   "codemirror_mode": {
    "name": "ipython",
    "version": 3
   },
   "file_extension": ".py",
   "mimetype": "text/x-python",
   "name": "python",
   "nbconvert_exporter": "python",
   "pygments_lexer": "ipython3",
   "version": "3.10.8"
  }
 },
 "nbformat": 4,
 "nbformat_minor": 5
}
