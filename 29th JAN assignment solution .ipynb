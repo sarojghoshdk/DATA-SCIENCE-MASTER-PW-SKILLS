{
 "cells": [
  {
   "cell_type": "code",
   "execution_count": 1,
   "id": "fd1cade2-baad-4c85-a423-fd85277bae90",
   "metadata": {},
   "outputs": [],
   "source": [
    "# 1. Who developed Python Programming Language? \n",
    "# ANSWER: Guido van Rossum"
   ]
  },
  {
   "cell_type": "code",
   "execution_count": 2,
   "id": "c6725b95-88bd-455b-9290-008c06e24951",
   "metadata": {},
   "outputs": [],
   "source": [
    "# 2. Which type of Programming does Python support?\n",
    "# ANSWER: Object-oriented programming and structured programming"
   ]
  },
  {
   "cell_type": "code",
   "execution_count": 3,
   "id": "e755b08e-0f10-4f24-9f03-c02ccaec1710",
   "metadata": {},
   "outputs": [],
   "source": [
    "# 3. Is Python case sensitive when dealing with identifiers?\n",
    "# ANSWER: Yes, Python is a case-sensitive language"
   ]
  },
  {
   "cell_type": "code",
   "execution_count": 4,
   "id": "5f082610-f11c-4849-9145-729ccd2d1696",
   "metadata": {
    "tags": []
   },
   "outputs": [],
   "source": [
    "# 4. What is the correct extension of the Python file?\n",
    "# ANSWER: .py"
   ]
  },
  {
   "cell_type": "code",
   "execution_count": 5,
   "id": "d202218d-8655-43f1-bf4b-5093d3c14180",
   "metadata": {},
   "outputs": [],
   "source": [
    "# 5. Is Python code compiled or interpreted?\n",
    "# ANSWER: Python is an interpreted language, \n",
    "#         which means the source code of a Python program is converted into bytecode that is then executed by the Python virtual machine."
   ]
  },
  {
   "cell_type": "code",
   "execution_count": 6,
   "id": "f5238dae-1554-4e10-926e-3e9e83cfcf78",
   "metadata": {},
   "outputs": [],
   "source": [
    "# 6. Name a few blocks of code used to define in Python language?\n",
    "# ANSWER: Python uses indentation to define blocks of code. Indentations are simply spaces or tabs used as an indicator that is part of the indent code child.\n",
    "\n",
    "if (condition):\n",
    "\n",
    "    # Statement 1\n",
    "\n",
    "else:\n",
    "\n",
    "    # Statement 2"
   ]
  },
  {
   "cell_type": "code",
   "execution_count": 7,
   "id": "93719a87-1a9b-43b3-91f3-0ef75a0adb59",
   "metadata": {},
   "outputs": [],
   "source": [
    "# 7. State a character used to give single-line comments in Python?\n",
    "# ANSWER: \"#\" is used for single line comment"
   ]
  },
  {
   "cell_type": "code",
   "execution_count": 8,
   "id": "1580ade5-094f-4de9-a54e-fe362b37e353",
   "metadata": {},
   "outputs": [],
   "source": [
    "# 8. Mention functions which can help us to find the version of python that we are currently working on?\n",
    "# ANSWER:  The function sys. version can help us to find the version of python that we are currently working on."
   ]
  },
  {
   "cell_type": "code",
   "execution_count": 9,
   "id": "bade76fd-1580-481b-a809-d2f722781e48",
   "metadata": {},
   "outputs": [],
   "source": [
    "# 9. Python supports the creation of anonymous functions at runtime, using a construct called _______________\n",
    "# ANSWER: Lambda"
   ]
  },
  {
   "cell_type": "code",
   "execution_count": 10,
   "id": "7af79378-cec1-4fb3-88e8-4bff1768659e",
   "metadata": {},
   "outputs": [],
   "source": [
    "# 10. What does pip stand for python?\n",
    "# ANSWER: pip stands for ----  “Preferred Installer Program”"
   ]
  },
  {
   "cell_type": "code",
   "execution_count": 11,
   "id": "168d73a8-1f8a-4fa6-a83c-6d423d2ce7c0",
   "metadata": {},
   "outputs": [],
   "source": [
    "# 11. Mention a few built-in functions in python?\n",
    "# ANSWER: 1- print()\tPrints to the standard output device\n",
    "#         2- reversed()\tReturns a reversed iterator\n",
    "#         3- max()\tReturns the largest item in an iterable"
   ]
  },
  {
   "cell_type": "code",
   "execution_count": 12,
   "id": "74c35057-6d01-4aab-b1b2-982118ec5122",
   "metadata": {},
   "outputs": [],
   "source": [
    "# 12. What is the maximum possible length of an identifier in Python?\n",
    "# ANSWER: An identifier can have a maximum length of 79 characters in Python."
   ]
  },
  {
   "cell_type": "code",
   "execution_count": 13,
   "id": "7c091169-238e-40ca-ad30-9c61e1dc1980",
   "metadata": {},
   "outputs": [],
   "source": [
    "# 13. What are the benefits of using Python?\n",
    "# ANSWER: 1- Simple and Easy to learn\n",
    "#    2- Portable and Extensible\n",
    "#    3- Object-Oriented Programming\n",
    "#    4- Artificial Intelligence\n",
    "#    5- Big Data"
   ]
  },
  {
   "cell_type": "code",
   "execution_count": 14,
   "id": "7df8f14b-a308-4c2a-b28a-232c66de5af7",
   "metadata": {},
   "outputs": [],
   "source": [
    "# 14. How is memory managed in Python?\n",
    "# ANSWER: Memory in Python is managed by Python private heap space. All Python objects and data structures \n",
    "#   are located in a private heap. This private heap is taken care of by Python Interpreter itself, \n",
    "#   and a programmer doesn't have access "
   ]
  },
  {
   "cell_type": "code",
   "execution_count": 15,
   "id": "5fd42e45-9cd4-42a1-9bb9-32dfd9d2896f",
   "metadata": {},
   "outputs": [],
   "source": [
    "# 15. How to install Python on Windows and set path variables?\n",
    "# ANSWER: \"\"\"The complete path of python.exe can be added by:\n",
    "\n",
    "1- Right-clicking This PC and going to Properties.\n",
    "\n",
    "2- Clicking on the Advanced system settings in the menu on the left.\n",
    "\n",
    "3- Clicking on the Environment Variables button o​n the bottom right.\n",
    "\n",
    "4- In the System variables section, selecting the Path variable and clicking on Edit. The next screen will show all the directories that are currently a part of the PATH variable.\n",
    "\n",
    "5- Clicking on New and entering Python’s install directory.\n",
    "\n",
    "Python can now be used directly from the command prompt without having to write its location. Try executing the command python --version; it will output the version of Python\"\"\""
   ]
  },
  {
   "cell_type": "code",
   "execution_count": null,
   "id": "ea821208-3610-4f95-a4d5-d2d1710beef8",
   "metadata": {},
   "outputs": [],
   "source": [
    "# 16. Is indentation required in python?\n",
    "# ANSWER: Indentation is mandatory in python to define the blocks of statements. "
   ]
  }
 ],
 "metadata": {
  "kernelspec": {
   "display_name": "Python 3 (ipykernel)",
   "language": "python",
   "name": "python3"
  },
  "language_info": {
   "codemirror_mode": {
    "name": "ipython",
    "version": 3
   },
   "file_extension": ".py",
   "mimetype": "text/x-python",
   "name": "python",
   "nbconvert_exporter": "python",
   "pygments_lexer": "ipython3",
   "version": "3.10.8"
  }
 },
 "nbformat": 4,
 "nbformat_minor": 5
}
