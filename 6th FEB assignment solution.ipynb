{
 "cells": [
  {
   "cell_type": "markdown",
   "id": "827e35c4-28d9-4192-b07c-6ee4bd5c7b6e",
   "metadata": {},
   "source": [
    "Q1. Create a function which will take a list as an argument and return the product of all the numbers\n",
    "after creating a flat list.\n",
    "Use the below-given list as an argument for your function.\n",
    "list1 = [1,2,3,4, [44,55,66, True], False, (34,56,78,89,34), {1,2,3,3,2,1}, {1:34, \"key2\": [55, 67, 78, 89], 4: (45,\n",
    "22, 61, 34)}, [56, 'data science'], 'Machine Learning']\n",
    "Note: you must extract numeric keys and values of the dictionary also."
   ]
  },
  {
   "cell_type": "code",
   "execution_count": 3,
   "id": "ad75f248-1e9b-46d2-88b8-a26fd63b5b1d",
   "metadata": {},
   "outputs": [
    {
     "name": "stdout",
     "output_type": "stream",
     "text": [
      "([1, 2, 3, 4, 44, 55, 66, 34, 56, 78, 89, 34, 1, 2, 3, 1, 34, 55, 67, 78, 89, 4, 45, 22, 61, 34, 56], 4134711838987085478833841242112000)\n"
     ]
    }
   ],
   "source": [
    "list1 = [1,2,3,4, [44,55,66, True], False, (34,56,78,89,34), {1,2,3,3,2,1}, \n",
    "         {1:34, \"key2\": [55, 67, 78, 89], 4: (45, 22, 61, 34)}, [56, 'data science'], 'Machine Learning']\n",
    "\n",
    "def product(list1):\n",
    "    flat_list = []\n",
    "    for i in list1:\n",
    "        if type(i) == int or type(i) == float:     # if any integer & float value present in original list\n",
    "            flat_list.append(i)\n",
    "        elif type(i) == list or type(i) == set or type(i) == tuple:    # if any list,set & tuple present in list\n",
    "            for j in i:\n",
    "                if type(j) == int or type(j) == float:\n",
    "                    flat_list.append(j)\n",
    "        \n",
    "        elif type(i) == dict:                      # if any dictonary present in list\n",
    "            for k in i.items():\n",
    "                if type(k[0]) == int or type(k[0]) == float:\n",
    "                    flat_list.append(k[0])\n",
    "                if type(k[1]) == int or type(k[1]) == float:\n",
    "                    flat_list.append(k[1])\n",
    "                else:\n",
    "                    for l in k[1]:\n",
    "                        flat_list.append(l)\n",
    "    \n",
    "    final_list = []       # if any string value in flat_list then by this way that string value is remove from list\n",
    "                        \n",
    "    for i in flat_list:\n",
    "        if type(i) == int or type(i)==float:\n",
    "            final_list.append(i)\n",
    "            \n",
    "            \n",
    "    product = 1          # for product of all integer value\n",
    "    for i in final_list:\n",
    "        product = product * i\n",
    "            \n",
    "    \n",
    "    return final_list , product\n",
    "\n",
    "a = product(list1)\n",
    "print(a)"
   ]
  },
  {
   "cell_type": "markdown",
   "id": "cf8f53c5-fbfa-48ef-bf19-6a1877e32ab1",
   "metadata": {},
   "source": [
    "Q2. Write a python program for encrypting a message sent to you by your friend. The logic of encryption\n",
    "should be such that, for a the output should be z. For b, the output should be y. For c, the output should\n",
    "be x respectively. Also, the whitespace should be replaced with a dollar sign. Keep the punctuation\n",
    "marks unchanged.\n",
    "Input Sentence: I want to become a Data Scientist.\n",
    "Encrypt the above input sentence using the program you just created.\n",
    "Note: Convert the given input sentence into lowercase before encrypting. The final output should be\n",
    "lowercase."
   ]
  },
  {
   "cell_type": "code",
   "execution_count": 4,
   "id": "debdc00d-1de8-4e75-a42f-e4ec4bcddf31",
   "metadata": {},
   "outputs": [
    {
     "name": "stdin",
     "output_type": "stream",
     "text": [
      " I want to become a Data Scientist.\n"
     ]
    },
    {
     "name": "stdout",
     "output_type": "stream",
     "text": [
      "encrypted msg is: I$dzmg$gl$yvxlnv$z$Dzgz$Sxrvmgrhg.\n"
     ]
    }
   ],
   "source": [
    "def encrypted(msg):\n",
    "    mapp = {'a': 'z', 'b': 'y', 'c': 'x', 'd': 'w', 'e': 'v', 'f': 'u', 'g': 't', 'h': 's', 'i': 'r', 'j': 'q',\n",
    "               'k': 'p', 'l': 'o', 'm': 'n', 'n': 'm', 'o': 'l', 'p': 'k', 'q': 'j', 'r': 'i', 's': 'h', 't': 'g',\n",
    "               'u': 'f', 'v': 'e', 'w': 'd', 'x': 'c', 'y': 'b', 'z': 'a', ' ': '$'}\n",
    "    \n",
    "    encrypt_msg = \"\"\n",
    "    for char in msg:\n",
    "        if char in mapp:\n",
    "            encrypt_msg += mapp[char]\n",
    "        else:\n",
    "            encrypt_msg += char\n",
    "            \n",
    "    return encrypt_msg\n",
    "\n",
    "msg = input()\n",
    "a = encrypted(msg)\n",
    "print(\"encrypted msg is:\",a)"
   ]
  }
 ],
 "metadata": {
  "kernelspec": {
   "display_name": "Python 3 (ipykernel)",
   "language": "python",
   "name": "python3"
  },
  "language_info": {
   "codemirror_mode": {
    "name": "ipython",
    "version": 3
   },
   "file_extension": ".py",
   "mimetype": "text/x-python",
   "name": "python",
   "nbconvert_exporter": "python",
   "pygments_lexer": "ipython3",
   "version": "3.10.8"
  }
 },
 "nbformat": 4,
 "nbformat_minor": 5
}
