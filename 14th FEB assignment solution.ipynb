{
 "cells": [
  {
   "cell_type": "markdown",
   "id": "85f03659-72b8-46c1-842e-2a3c42cf5162",
   "metadata": {},
   "source": [
    "Q1. what is multithreading in python? why is it used? Name the module used to handle threads in python"
   ]
  },
  {
   "cell_type": "markdown",
   "id": "271cdf5a-b0b5-4b3a-b028-609998c5030d",
   "metadata": {},
   "source": [
    "ANSWER:- \n",
    "\n",
    "        Multithreading : - Multithreading in Python is a technique where a program is divided into multiple threads of execution that can run concurrently. Each thread is a separate flow of control that can perform a specific task, and the threads share the same memory space, allowing them to communicate and coordinate with each other. "
   ]
  },
  {
   "cell_type": "markdown",
   "id": "15b4d439-d920-432a-84e6-93c7960f0e07",
   "metadata": {},
   "source": [
    "Multithreading is used in Python to perform multiple tasks simultaneously and make programs more efficient by utilizing the available hardware resources.Multithreading allows the execution of multiple parts of a program at the same time."
   ]
  },
  {
   "cell_type": "markdown",
   "id": "6b95985b-5f82-4871-a174-d82a94cd3643",
   "metadata": {},
   "source": [
    "In Python, the threading module is used to handle threads. "
   ]
  },
  {
   "cell_type": "markdown",
   "id": "e15ee20d-7a05-4678-9674-7180fb69a34d",
   "metadata": {},
   "source": [
    "Q2. why threading module used? write the use of the following functions\n",
    "\n",
    "--> activeCount() \n",
    "\n",
    "--> currentThread() \n",
    "\n",
    "--> enumerate()"
   ]
  },
  {
   "cell_type": "markdown",
   "id": "f8d1337e-8b2a-4d92-8e0d-6b6b59e4b2df",
   "metadata": {},
   "source": [
    "ANSWER:- The threading module in Python is used to create, control and manage threads in a program."
   ]
  },
  {
   "cell_type": "markdown",
   "id": "5f35bd1a-f01a-4d24-aef6-21b1bfa2ec22",
   "metadata": {},
   "source": [
    "activeCount() :- Returns the number of thread objects that are active.\n",
    "\n",
    "currentThread() :- The currentThread() function is used to get a reference to the current thread object that is executing the function. \n",
    "\n",
    "enumerate() :- Returns a list of all thread objects that are currently active."
   ]
  },
  {
   "cell_type": "markdown",
   "id": "c16d6269-032f-4624-bfbe-789282021a15",
   "metadata": {},
   "source": [
    "Q3. Explain the following functions: 1.run() 2.start() 3.join() 4.isAlive()"
   ]
  },
  {
   "cell_type": "markdown",
   "id": "4c764627-2154-4f27-ba53-7afb4de131af",
   "metadata": {},
   "source": [
    "run() − The run() method is the entry point for a thread.\n",
    "\n",
    "start() − The start() method starts a thread by calling the run method.\n",
    "\n",
    "join() − The join() waits for threads to terminate.\n",
    "\n",
    "isAlive() − The isAlive() method checks whether a thread is still executing."
   ]
  },
  {
   "cell_type": "markdown",
   "id": "9e4495cd-05b0-418f-9aba-09e60b37ff57",
   "metadata": {},
   "source": [
    "Q4. write a python program to create two threads. Thread one must print the list of squares and thread two must print the list of cubes"
   ]
  },
  {
   "cell_type": "code",
   "execution_count": 10,
   "id": "71ec919e-2d77-49ec-8fca-5595881482cd",
   "metadata": {},
   "outputs": [
    {
     "name": "stdout",
     "output_type": "stream",
     "text": [
      "Squre of 1 = 1\n",
      "Squre of 2 = 4\n",
      "Squre of 3 = 9\n",
      "Squre of 4 = 16\n",
      "Squre of 5 = 25\n",
      "Squre of 6 = 36\n",
      "Squre of 7 = 49\n",
      "Squre of 8 = 64\n",
      "Squre of 9 = 81\n",
      "Squre of 10 = 100\n",
      "Cube of 1 = 1\n",
      "Cube of 2 = 8\n",
      "Cube of 3 = 27\n",
      "Cube of 4 = 64\n",
      "Cube of 5 = 125\n",
      "Cube of 6 = 216\n",
      "Cube of 7 = 343\n",
      "Cube of 8 = 512\n",
      "Cube of 9 = 729\n",
      "Cube of 10 = 1000\n"
     ]
    }
   ],
   "source": [
    "import threading\n",
    "\n",
    "def print_squre():\n",
    "    for i in range(1 , 11) :\n",
    "        print (f\"Squre of {i} = {i**2}\")\n",
    "   \n",
    "def print_cube():\n",
    "    for i in range(1 , 11) :\n",
    "        print (f\"Cube of {i} = {i**3}\")\n",
    "\n",
    "    \n",
    "t1 = threading.Thread(target = print_squre)\n",
    "t2 = threading.Thread(target = print_cube)\n",
    "\n",
    "t1.start()\n",
    "t2.start()\n",
    "\n",
    "t1.join()\n",
    "t2.join()\n",
    "    "
   ]
  },
  {
   "cell_type": "markdown",
   "id": "782722e0-1712-4669-9898-76316f7cd4f7",
   "metadata": {},
   "source": [
    "Q5. State advantages and disadvantages of multithreading."
   ]
  },
  {
   "cell_type": "markdown",
   "id": "d10429ff-756c-447f-9063-faf0b215c8dc",
   "metadata": {},
   "source": [
    "ANSWER:- \n",
    "Advantages of Multithreading:\n",
    "    \n",
    "    Improved performance: Multithreading allows a program to perform multiple tasks simultaneously, which can lead to better performance and faster execution times. This is especially useful in applications that involve I/O or other tasks that are blocking.\n",
    "    \n",
    "    Resource sharing: Multithreading allows threads to share resources such as memory and CPU time, which can lead to more efficient resource utilization.\n",
    "    \n",
    "    Parallel processing: Multithreading can be used to perform tasks in parallel, where multiple threads can work on the same task simultaneously. This can reduce the time required to complete the task."
   ]
  },
  {
   "cell_type": "markdown",
   "id": "214fee8f-4c7b-41d3-8770-bae5eca8b053",
   "metadata": {},
   "source": [
    "Disadvantages of Multithreading:\n",
    "    \n",
    "    Complexity: Multithreading adds complexity to a program, making it more difficult to design, develop, and debug.\n",
    "    \n",
    "    Debugging challenges: Debugging multithreaded programs can be challenging, as the behavior of the program can be non-deterministic and difficult to reproduce."
   ]
  },
  {
   "cell_type": "markdown",
   "id": "e345a963-93e9-4838-a04f-9a2285726070",
   "metadata": {},
   "source": [
    "Q6. Explain deadlocks and race conditions."
   ]
  },
  {
   "cell_type": "markdown",
   "id": "1935c0e8-9a9a-424d-ba4a-0007f4e6277a",
   "metadata": {},
   "source": [
    "Deadlocks:- When two processes are waiting for each other directly or indirectly, it is called deadlock.\n",
    "\n",
    "In Python, deadlocks can occur in multi-threaded or multi-process applications where threads or processes share resources such as locks, semaphores, or other synchronization primitives. If the threads or processes are not designed properly, they may end up acquiring resources in a different order, resulting in a circular waiting condition and causing a deadlock."
   ]
  },
  {
   "cell_type": "code",
   "execution_count": 1,
   "id": "6e27b040-c8d7-4519-829f-a0e296dbe6b6",
   "metadata": {},
   "outputs": [
    {
     "name": "stdout",
     "output_type": "stream",
     "text": [
      "Thread 1 acquired both locks\n",
      "Thread 2 acquired both locks\n"
     ]
    }
   ],
   "source": [
    "import threading\n",
    "\n",
    "lock_a = threading.Lock()\n",
    "lock_b = threading.Lock()\n",
    "\n",
    "def thread1():\n",
    "    lock_a.acquire()\n",
    "    lock_b.acquire()\n",
    "    print(\"Thread 1 acquired both locks\")\n",
    "    lock_a.release()\n",
    "    lock_b.release()\n",
    "\n",
    "def thread2():\n",
    "    lock_b.acquire()\n",
    "    lock_a.acquire()\n",
    "    print(\"Thread 2 acquired both locks\")\n",
    "    lock_b.release()\n",
    "    lock_a.release()\n",
    "\n",
    "t1 = threading.Thread(target=thread1)\n",
    "t2 = threading.Thread(target=thread2)\n",
    "\n",
    "t1.start()\n",
    "t2.start()\n",
    "\n",
    "t1.join()\n",
    "t2.join()"
   ]
  },
  {
   "cell_type": "markdown",
   "id": "a82ed916-8cf9-4f10-82d4-b8e3f146b023",
   "metadata": {},
   "source": [
    "In this example, we have two threads, thread1 and thread2, each of which acquires two locks, lock_a and lock_b, in a different order. Specifically, thread1 acquires lock_a first, and then lock_b, while thread2 acquires lock_b first, and then lock_a.\n",
    "\n",
    "If thread1 and thread2 are both started at the same time, there is a possibility that thread1 acquires lock_a and thread2 acquires lock_b, causing both threads to wait indefinitely for the other lock to be released. This creates a circular waiting condition and results in a deadlock."
   ]
  },
  {
   "cell_type": "markdown",
   "id": "8fe5e987-478d-4296-97c9-28ec4c39d90b",
   "metadata": {},
   "source": [
    "Race Condition:- A race condition can lead to a specific type of problem called a \"race-around condition\". In a race-around condition, two or more threads or processes are trying to modify the same shared resource simultaneously, and the outcome depends on which thread or process is faster or more efficient in accessing and modifying the resource.\n",
    "\n",
    "For example, imagine two threads that are trying to increment a shared counter variable:\n"
   ]
  },
  {
   "cell_type": "code",
   "execution_count": 3,
   "id": "1333c291-6436-4212-9f9b-98cdf54faa70",
   "metadata": {},
   "outputs": [
    {
     "name": "stdout",
     "output_type": "stream",
     "text": [
      "2\n"
     ]
    }
   ],
   "source": [
    "counter = 0\n",
    "\n",
    "def increment():\n",
    "    global counter\n",
    "    temp = counter\n",
    "    temp = temp + 1\n",
    "    counter = temp\n",
    "\n",
    "t1 = threading.Thread(target=increment)\n",
    "t2 = threading.Thread(target=increment)\n",
    "\n",
    "t1.start()\n",
    "t2.start()\n",
    "\n",
    "t1.join()\n",
    "t2.join()\n",
    "\n",
    "print(counter)"
   ]
  },
  {
   "cell_type": "markdown",
   "id": "7e98c54d-d1c7-48c7-91fc-1e1dae7db270",
   "metadata": {},
   "source": [
    "In this example, both threads are trying to increment the counter variable. However, because they are executing concurrently, there is a possibility that one thread may read the old value of the counter, increment it, and write the new value back, while the other thread is still using the old value, resulting in a lost update."
   ]
  },
  {
   "cell_type": "markdown",
   "id": "54f34065-110e-4667-b492-17f087d6c454",
   "metadata": {},
   "source": [
    "To prevent race-around conditions in Python, you should use synchronization primitives such as locks, semaphores, or mutexes to ensure that only one thread or process can access the shared resource at a time. You should also ensure that the shared resource is accessed and modified in a consistent and predictable manner."
   ]
  },
  {
   "cell_type": "code",
   "execution_count": null,
   "id": "c2de6a57-2616-46b3-9578-9fe3df3bfac9",
   "metadata": {},
   "outputs": [],
   "source": []
  }
 ],
 "metadata": {
  "kernelspec": {
   "display_name": "Python 3 (ipykernel)",
   "language": "python",
   "name": "python3"
  },
  "language_info": {
   "codemirror_mode": {
    "name": "ipython",
    "version": 3
   },
   "file_extension": ".py",
   "mimetype": "text/x-python",
   "name": "python",
   "nbconvert_exporter": "python",
   "pygments_lexer": "ipython3",
   "version": "3.10.8"
  }
 },
 "nbformat": 4,
 "nbformat_minor": 5
}
