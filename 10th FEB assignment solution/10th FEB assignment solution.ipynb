{
 "cells": [
  {
   "cell_type": "markdown",
   "id": "2f013cab-fcb5-4227-9fd6-e2e67c81c9b8",
   "metadata": {},
   "source": [
    "Q1. Which function is used to open a file? What are the different modes of opening a file? Explain each mode\n",
    "of file opening."
   ]
  },
  {
   "cell_type": "markdown",
   "id": "a0062c43-4df3-4259-96dc-7a5196ccb968",
   "metadata": {},
   "source": [
    "ANSWER:- f = open(\"file_name\" , \"mode\") or with open(\"file_name\" , \"mode\") as f : function is used to open a file."
   ]
  },
  {
   "cell_type": "markdown",
   "id": "8b4f04de-dea2-4724-bd66-d40b106f8fb2",
   "metadata": {},
   "source": [
    "The different modes of opening a file in Python are:"
   ]
  },
  {
   "cell_type": "markdown",
   "id": "41c65c39-dae3-43a4-b890-92b9a1bff6e0",
   "metadata": {},
   "source": [
    "1. 'r' (read mode) - This mode is used when you only want to read the contents of a file. When you open a file in read mode, you cannot write to it or make any changes to it. If the file does not exist, a FileNotFoundError will be raised.  f = open(\"file_name\" , \"r\")"
   ]
  },
  {
   "cell_type": "markdown",
   "id": "351d76b3-7fef-41ec-be50-607a66287e4b",
   "metadata": {},
   "source": [
    "2) 'w' (write mode) - This mode is used when you want to write to a file. If the file already exists, its contents will be overwritten. If the file does not exist, a new file will be created and write on it. f = open(\"file_name\" , \"w\")"
   ]
  },
  {
   "cell_type": "markdown",
   "id": "04043c07-2da7-41ef-a634-650ce6023d61",
   "metadata": {},
   "source": [
    "3. 'a' (append mode) - This mode is used when you want to add new content to the end of an existing file. If the file does not exist, a new file will be created. In append mode, you can only write to the end of the file, and not anywhere else.  f = open(\"file_name\" , \"a\")"
   ]
  },
  {
   "cell_type": "markdown",
   "id": "24f7fdd0-3c0b-400a-8e5b-781f74ca80dd",
   "metadata": {},
   "source": [
    "4. 'b' (binary mode) - This mode is used when you want to read or write binary data to a file. When opening a file in binary mode, you should use 'rb' to read binary data and 'wb' to write binary data."
   ]
  },
  {
   "cell_type": "markdown",
   "id": "83ec7dbb-af03-4f3e-859f-acfb461db05a",
   "metadata": {},
   "source": [
    "5. 't' (text mode) - This mode is used when you want to read or write text data to a file. When opening a file in text mode, you should use 'rt' to read text data and 'wt' to write text data."
   ]
  },
  {
   "cell_type": "markdown",
   "id": "e7dab563-35aa-4745-b57c-3fe036e712a5",
   "metadata": {},
   "source": [
    "Q2. Why close() function is used? Why is it important to close a file?"
   ]
  },
  {
   "cell_type": "markdown",
   "id": "83ca24da-ee97-4d96-bacb-565d398d6af1",
   "metadata": {},
   "source": [
    "ANSWER:- The close() function is used to close an open file. When a file is opened in Python using the open function, the operating system reserves some resources to handle the file. This can include memory, disk space, file handles, etc. , for this reason close() function is used. \n",
    "\n",
    "It is important to close a file because When it is done with a file and no longer need to read from or write to it, it is important to close it so that these resources can be released and made available for other applications."
   ]
  },
  {
   "cell_type": "markdown",
   "id": "5082edfd-eea2-4480-a038-111d102d2da0",
   "metadata": {},
   "source": [
    "Q3. Write a python program to create a text file. Write ‘I want to become a Data Scientist’ in that file. Then\n",
    "close the file. Open this file and read the content of the file."
   ]
  },
  {
   "cell_type": "code",
   "execution_count": 1,
   "id": "3d595df8-98d0-4fcb-88ee-34cb04028452",
   "metadata": {},
   "outputs": [
    {
     "name": "stdout",
     "output_type": "stream",
     "text": [
      "I want to become a Data Scientist\n"
     ]
    }
   ],
   "source": [
    "# for open a file\n",
    "file = open (\"file.txt\" , \"w\")\n",
    "\n",
    "#for write in file\n",
    "file.write(\"I want to become a Data Scientist\")\n",
    "\n",
    "# for close the file\n",
    "file.close()\n",
    "\n",
    "# again open a file for read mode\n",
    "file = open(\"file.txt\" , \"r\")\n",
    "\n",
    "\n",
    "# print the value o the content.\n",
    "content = file.read()\n",
    "\n",
    "# print value of conent\n",
    "print(content)\n",
    "\n",
    "file.close()"
   ]
  },
  {
   "cell_type": "markdown",
   "id": "fcdf4d07-2a8e-4ea3-bd44-feebfcdc4462",
   "metadata": {},
   "source": [
    "Q4. Explain the following with python code: read(), readline() and readlines()."
   ]
  },
  {
   "cell_type": "code",
   "execution_count": 4,
   "id": "5e7f90c5-b82a-4d5d-9b1a-483cf4666a5d",
   "metadata": {},
   "outputs": [],
   "source": [
    "# open a file & write in the file\n",
    "with open(\"example.txt\" , 'w') as file:\n",
    "    file.write(\"This is my file Data Science Masters course 1\\n\")\n",
    "    file.write(\"This is my file Data Science Masters course 2\\n\")\n",
    "    file.write(\"This is my file Data Science Masters course 3\\n\")\n",
    "    file.write(\"This is my file Data Science Masters course 4\\n\")\n",
    "    file.write(\"This is my file Data Science Masters course 5\\n\")\n",
    "    file.write(\"This is my file Data Science Masters course 6\\n\")"
   ]
  },
  {
   "cell_type": "markdown",
   "id": "a6c1b8f7-0ef4-453d-9161-8de8f5a3125d",
   "metadata": {},
   "source": [
    "read(): The read() method reads the entire contents of a file and returns it as a single string"
   ]
  },
  {
   "cell_type": "code",
   "execution_count": 17,
   "id": "4e0cea21-4983-4b60-a7ec-0933333c5471",
   "metadata": {},
   "outputs": [
    {
     "name": "stdout",
     "output_type": "stream",
     "text": [
      "This is my file Data Science Masters course 1\n",
      "This is my file Data Science Masters course 2\n",
      "This is my file Data Science Masters course 3\n",
      "This is my file Data Science Masters course 4\n",
      "This is my file Data Science Masters course 5\n",
      "This is my file Data Science Masters course 6\n",
      "\n"
     ]
    }
   ],
   "source": [
    "# Example of using read() method\n",
    "with open(\"example.txt\" , 'r') as file:\n",
    "    print(file.read())"
   ]
  },
  {
   "cell_type": "markdown",
   "id": "b520ecc0-f216-4ae5-9067-aa692aa9eb5a",
   "metadata": {},
   "source": [
    "readline(): The readline() method reads one line of the file at a time and returns it as a string."
   ]
  },
  {
   "cell_type": "code",
   "execution_count": 15,
   "id": "783122ce-ce1e-4ae4-84c4-eb0821c1a923",
   "metadata": {},
   "outputs": [
    {
     "name": "stdout",
     "output_type": "stream",
     "text": [
      "This is my file Data Science Masters course 1\n",
      "\n",
      "This is my file Data Science Masters course 2\n",
      "\n",
      "This is my file Data Science Masters course 3\n",
      "\n",
      "This is my file Data Science Masters course 4\n",
      "\n"
     ]
    }
   ],
   "source": [
    "# Example of using readline() method\n",
    "with open(\"example.txt\" , 'r') as file:\n",
    "    print(file.readline())\n",
    "    print(file.readline())\n",
    "    print(file.readline())\n",
    "    print(file.readline())"
   ]
  },
  {
   "cell_type": "markdown",
   "id": "e22cd4f4-29ba-4208-8d95-a6c4ead0d4a6",
   "metadata": {},
   "source": [
    "readlines(): The readlines() method reads all the lines of the file and returns them as a list of strings, where each string is a line of the file"
   ]
  },
  {
   "cell_type": "code",
   "execution_count": 16,
   "id": "f2d704e7-0862-42f2-b0a9-41d7c2f61129",
   "metadata": {},
   "outputs": [
    {
     "name": "stdout",
     "output_type": "stream",
     "text": [
      "['This is my file Data Science Masters course 1\\n', 'This is my file Data Science Masters course 2\\n', 'This is my file Data Science Masters course 3\\n', 'This is my file Data Science Masters course 4\\n', 'This is my file Data Science Masters course 5\\n', 'This is my file Data Science Masters course 6\\n']\n"
     ]
    }
   ],
   "source": [
    "# Example of using readlines() method\n",
    "with open(\"example.txt\" , 'r') as file:\n",
    "    print(file.readlines())"
   ]
  },
  {
   "cell_type": "markdown",
   "id": "65b4fd9c-7dda-4f31-947f-e172158bd6d4",
   "metadata": {},
   "source": [
    "Q5. Explain why with statement is used with open(). What is the advantage of using with statement and\n",
    "open() together?"
   ]
  },
  {
   "cell_type": "markdown",
   "id": "76b8317c-a442-4352-a5d4-6a2d615a3746",
   "metadata": {},
   "source": [
    "ANSWER:- The with statement is used with open() because The with statement works with the open() function to open a file.\n",
    "\n",
    "        ADVANTAGE - \n",
    "                    the with statement closes the file without telling it to. This is because the with statement calls 2 built-in methods behind the scene – __enter()__ and __exit()__ ."
   ]
  },
  {
   "cell_type": "markdown",
   "id": "987c7843-9c63-446d-9206-8505d399390b",
   "metadata": {},
   "source": [
    "Q6. Explain the write() and writelines() functions. Give a suitable example."
   ]
  },
  {
   "cell_type": "markdown",
   "id": "c989cefe-d7ab-49cb-95ca-739a2fc94b9c",
   "metadata": {},
   "source": [
    "write(): The write() function is used to write a string to a file."
   ]
  },
  {
   "cell_type": "code",
   "execution_count": 10,
   "id": "4928b8ee-3e8b-489b-b86d-90319a103ba2",
   "metadata": {},
   "outputs": [],
   "source": [
    "with open(\"test.txt\" , \"w\") as file:\n",
    "    file.write(\"it is a course\\t\"  \"course name DSM\\t\"  \"it is amazing\\t\")"
   ]
  },
  {
   "cell_type": "markdown",
   "id": "f489dacd-1e83-4d80-959d-92ddd4fb2a53",
   "metadata": {},
   "source": [
    "writelines(): The writelines() function is used to write a list of strings to a file."
   ]
  },
  {
   "cell_type": "code",
   "execution_count": 11,
   "id": "6b4470f7-3e5a-479d-8734-1069bf6d2e91",
   "metadata": {},
   "outputs": [],
   "source": [
    "with open(\"test 1.txt\" , \"w\") as file:\n",
    "    file.writelines([\"it is a course 1\\t\"  \"course name DSM 2\\t\"  \"it is amazing 3\\t\"])"
   ]
  },
  {
   "cell_type": "code",
   "execution_count": null,
   "id": "d9ca63fc-d4e3-4bc2-b487-9abc2f73f767",
   "metadata": {},
   "outputs": [],
   "source": []
  }
 ],
 "metadata": {
  "kernelspec": {
   "display_name": "Python 3 (ipykernel)",
   "language": "python",
   "name": "python3"
  },
  "language_info": {
   "codemirror_mode": {
    "name": "ipython",
    "version": 3
   },
   "file_extension": ".py",
   "mimetype": "text/x-python",
   "name": "python",
   "nbconvert_exporter": "python",
   "pygments_lexer": "ipython3",
   "version": "3.10.8"
  }
 },
 "nbformat": 4,
 "nbformat_minor": 5
}
