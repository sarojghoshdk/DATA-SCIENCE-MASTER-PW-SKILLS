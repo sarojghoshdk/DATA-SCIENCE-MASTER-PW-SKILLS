{
 "cells": [
  {
   "cell_type": "markdown",
   "id": "be25c3b2-0769-46ee-a7d6-aafb011b4e6a",
   "metadata": {},
   "source": [
    "Q1. Which keyword is used to create a function? Create a function to return a list of odd numbers in the\n",
    "range of 1 to 25."
   ]
  },
  {
   "cell_type": "markdown",
   "id": "73eb28fa-0199-4749-8409-2307e2e6b288",
   "metadata": {},
   "source": [
    "ANS;- def keyword is used to create a function. \n",
    "        below the code present."
   ]
  },
  {
   "cell_type": "code",
   "execution_count": 4,
   "id": "8dcdcf78-c112-448f-b2ff-eaac2860a214",
   "metadata": {},
   "outputs": [
    {
     "data": {
      "text/plain": [
       "[1, 3, 5, 7, 9, 11, 13, 15, 17, 19, 21, 23, 25]"
      ]
     },
     "execution_count": 4,
     "metadata": {},
     "output_type": "execute_result"
    }
   ],
   "source": [
    "def odd_number():\n",
    "    l1 = []\n",
    "    for i in range(1,26):\n",
    "        if i % 2 != 0:\n",
    "            l1.append(i)\n",
    "    return l1\n",
    "odd_number()"
   ]
  },
  {
   "cell_type": "markdown",
   "id": "1534ef38-dda1-426d-9bf3-fd5c1f1f2d93",
   "metadata": {},
   "source": [
    "Q2. Why *args and **kwargs is used in some functions? Create a function each for *args and **kwargs\n",
    "to demonstrate their use."
   ]
  },
  {
   "cell_type": "markdown",
   "id": "26c6c269-5713-40e1-9665-43c2ac14ae44",
   "metadata": {},
   "source": [
    "ANS:- *args and **kwargs is used in some functions because *args and **kwargs as arguments of a function when you are unsure about the number of arguments to pass in the functions. \n",
    "     *args will be recived as tuple & **kwargs will be recived as disctionary."
   ]
  },
  {
   "cell_type": "code",
   "execution_count": 7,
   "id": "229a3788-5e29-4646-89f7-e8e4c0a196ab",
   "metadata": {},
   "outputs": [
    {
     "data": {
      "text/plain": [
       "(1, 2, 3, 'pwskills', 'ram')"
      ]
     },
     "execution_count": 7,
     "metadata": {},
     "output_type": "execute_result"
    }
   ],
   "source": [
    "# function of *args\n",
    "\n",
    "def test1(*args):\n",
    "    return args\n",
    "type(test1())\n",
    "test1(1,2,3,\"pwskills\",\"ram\")"
   ]
  },
  {
   "cell_type": "code",
   "execution_count": 13,
   "id": "752afea4-a72b-4e02-8bae-db5a8601bee6",
   "metadata": {},
   "outputs": [
    {
     "data": {
      "text/plain": [
       "{'pwskills': 2020, 'course': 4, 'mentor': 2}"
      ]
     },
     "execution_count": 13,
     "metadata": {},
     "output_type": "execute_result"
    }
   ],
   "source": [
    "# function of **kwargs\n",
    "\n",
    "def test2(**kwargs):\n",
    "    return kwargs\n",
    "type(test2())\n",
    "test2(pwskills = 2020 , course = 4 , mentor = 2)"
   ]
  },
  {
   "cell_type": "markdown",
   "id": "31f0d8bb-f603-4edf-a4ef-4201597f08c2",
   "metadata": {},
   "source": [
    "Q3. What is an iterator in python? Name the method used to initialise the iterator object and the method\n",
    "used for iteration. Use these methods to print the first five elements of the given list [2, 4, 6, 8, 10, 12, 14,\n",
    "16, 18, 20]."
   ]
  },
  {
   "cell_type": "markdown",
   "id": "7eea2254-8a89-47be-817f-682eefdf0298",
   "metadata": {},
   "source": [
    "ANS:- an iterator in python is an object that implement iterator protocol. which consist two method \n",
    "       1) iter() 2) next()\n",
    "    the iter() method initialize the iterator object & he next() method is used for iteration."
   ]
  },
  {
   "cell_type": "code",
   "execution_count": 5,
   "id": "0a9003be-99be-410c-a744-3cc858742959",
   "metadata": {},
   "outputs": [
    {
     "name": "stdout",
     "output_type": "stream",
     "text": [
      "1st 5 element:\n",
      "2\n",
      "4\n",
      "6\n",
      "8\n",
      "10\n"
     ]
    }
   ],
   "source": [
    "l = [2, 4, 6, 8, 10, 12, 14, 16, 18, 20]\n",
    "\n",
    "l1 = iter(l)\n",
    "print(\"1st 5 element:\")\n",
    "for i in range(5):\n",
    "    print(next(l1))"
   ]
  },
  {
   "cell_type": "markdown",
   "id": "c8e14e87-a14a-4d12-9c73-3151e1031db5",
   "metadata": {},
   "source": [
    "Q4. What is a generator function in python? Why yield keyword is used? Give an example of a generator\n",
    "function."
   ]
  },
  {
   "cell_type": "markdown",
   "id": "8241360e-c245-4a41-b3c4-86f984bcefab",
   "metadata": {},
   "source": [
    "ANS:- A generator function in Python is a function that returns a generator iterator. The yield keyword is used to return a value from a generator function and pause the function's execution. When the generator function is called again, it resumes execution from where it left off."
   ]
  },
  {
   "cell_type": "code",
   "execution_count": 35,
   "id": "ada589ad-249e-4ff1-a721-66ca01cc84c3",
   "metadata": {},
   "outputs": [
    {
     "name": "stdin",
     "output_type": "stream",
     "text": [
      "enter number 10\n"
     ]
    },
    {
     "name": "stdout",
     "output_type": "stream",
     "text": [
      "0\n",
      "1\n",
      "1\n",
      "2\n",
      "3\n",
      "5\n",
      "8\n",
      "13\n",
      "21\n",
      "34\n"
     ]
    }
   ],
   "source": [
    "def fib_number(n):\n",
    "    a , b = 0 , 1\n",
    "    for i in range(n):\n",
    "        yield a\n",
    "        a , b = b , a+b\n",
    "    \n",
    "n = int(input(\"enter number\"))\n",
    "for i in fib_number(n):\n",
    "    print(i)"
   ]
  },
  {
   "cell_type": "markdown",
   "id": "4e0a4a37-169a-4b20-9a29-82224dc1917a",
   "metadata": {},
   "source": [
    "Q5. Create a generator function for prime numbers less than 1000. Use the next() method to print the\n",
    "first 20 prime numbers."
   ]
  },
  {
   "cell_type": "code",
   "execution_count": 22,
   "id": "7a5cc441-ad95-4d50-bb80-a786c0b7c92d",
   "metadata": {},
   "outputs": [
    {
     "name": "stdout",
     "output_type": "stream",
     "text": [
      "2\n",
      "3\n",
      "5\n",
      "7\n",
      "11\n",
      "13\n",
      "17\n",
      "19\n",
      "23\n",
      "29\n",
      "31\n",
      "37\n",
      "41\n",
      "43\n",
      "47\n",
      "53\n",
      "59\n",
      "61\n",
      "67\n",
      "71\n"
     ]
    }
   ],
   "source": [
    "def isprime(num):\n",
    "    for i in range(2,num):\n",
    "        if num % i == 0:\n",
    "            return False \n",
    "    return True\n",
    "\n",
    "def prime(n):\n",
    "    num = 2\n",
    "    while n > 0:\n",
    "        if isprime(num):\n",
    "            yield num\n",
    "            n -= 1\n",
    "        num += 1\n",
    "    return\n",
    "\n",
    "p = prime(1000)\n",
    "for i in range(20):\n",
    "    print(next(p))"
   ]
  },
  {
   "cell_type": "markdown",
   "id": "a9452c81-c7e7-4de8-a3b2-d46f8db1d1c8",
   "metadata": {},
   "source": [
    "Q6. Write a python program to print the first 10 Fibonacci numbers using a while loop."
   ]
  },
  {
   "cell_type": "code",
   "execution_count": 38,
   "id": "737bda20-60a1-44d0-ae3b-0f9996d682d0",
   "metadata": {},
   "outputs": [
    {
     "name": "stdin",
     "output_type": "stream",
     "text": [
      "enter number 10\n"
     ]
    },
    {
     "name": "stdout",
     "output_type": "stream",
     "text": [
      "0\n",
      "1\n",
      "1\n",
      "2\n",
      "3\n",
      "5\n",
      "8\n",
      "13\n",
      "21\n",
      "34\n"
     ]
    }
   ],
   "source": [
    "n = int(input(\"enter number\"))\n",
    "a , b = 0 , 1 \n",
    "count = 0\n",
    "\n",
    "while count < n:\n",
    "    print(a) \n",
    "    a , b = b , a+b\n",
    "    count += 1"
   ]
  },
  {
   "cell_type": "markdown",
   "id": "53f97293-d3d6-4636-945b-0bebae7ea69b",
   "metadata": {},
   "source": [
    "Q7. Write a List Comprehension to iterate through the given string: ‘pwskills’.\n",
    "Expected output: ['p', 'w', 's', 'k', 'i', 'l', 'l', 's']"
   ]
  },
  {
   "cell_type": "code",
   "execution_count": 23,
   "id": "4afc83b0-f37e-472f-b77a-3bc3fccd0ee1",
   "metadata": {},
   "outputs": [
    {
     "data": {
      "text/plain": [
       "['p', 'w', 's', 'k', 'i', 'l', 'l', 's']"
      ]
     },
     "execution_count": 23,
     "metadata": {},
     "output_type": "execute_result"
    }
   ],
   "source": [
    "s = \"pwskills\"\n",
    "\n",
    "[i for i in s]"
   ]
  },
  {
   "cell_type": "markdown",
   "id": "8b2b71c9-4acc-4645-9e42-6510fb860877",
   "metadata": {},
   "source": [
    "Q8. Write a python program to check whether a given number is Palindrome or not using a while loop."
   ]
  },
  {
   "cell_type": "code",
   "execution_count": 9,
   "id": "312daf5b-63e5-4c96-a8d8-04bd2575c01a",
   "metadata": {},
   "outputs": [
    {
     "name": "stdin",
     "output_type": "stream",
     "text": [
      "enter number 1221\n"
     ]
    },
    {
     "name": "stdout",
     "output_type": "stream",
     "text": [
      "1221 is palindrom\n"
     ]
    }
   ],
   "source": [
    "def palindrom(num):\n",
    "    original = num\n",
    "    reverse = 0\n",
    "    while num > 0:\n",
    "        digit = num % 10 \n",
    "        reverse = reverse * 10 + digit\n",
    "        num = num // 10\n",
    "    return original == reverse\n",
    "\n",
    "num = int(input(\"enter number\"))\n",
    "\n",
    "if palindrom(num):\n",
    "    print(num ,\"is palindrom\")\n",
    "else:\n",
    "    print(num,\"is not palindrom\")"
   ]
  },
  {
   "cell_type": "markdown",
   "id": "65593a3a-527d-46d5-b04c-58f7e7c02f19",
   "metadata": {},
   "source": [
    "Q9. Write a code to print odd numbers from 1 to 100 using list comprehension.\n",
    "Note: Use a list comprehension to create a list from 1 to 100 and use another List comprehension to filter\n",
    "out odd numbers."
   ]
  },
  {
   "cell_type": "code",
   "execution_count": 17,
   "id": "d64020f3-4bfd-420a-9fe3-c45bedbbdd2f",
   "metadata": {},
   "outputs": [
    {
     "name": "stdout",
     "output_type": "stream",
     "text": [
      "orginal list [1, 2, 3, 4, 5, 6, 7, 8, 9, 10, 11, 12, 13, 14, 15, 16, 17, 18, 19, 20, 21, 22, 23, 24, 25, 26, 27, 28, 29, 30, 31, 32, 33, 34, 35, 36, 37, 38, 39, 40, 41, 42, 43, 44, 45, 46, 47, 48, 49, 50, 51, 52, 53, 54, 55, 56, 57, 58, 59, 60, 61, 62, 63, 64, 65, 66, 67, 68, 69, 70, 71, 72, 73, 74, 75, 76, 77, 78, 79, 80, 81, 82, 83, 84, 85, 86, 87, 88, 89, 90, 91, 92, 93, 94, 95, 96, 97, 98, 99, 100]\n",
      "\n",
      "\n",
      "odd list [1, 3, 5, 7, 9, 11, 13, 15, 17, 19, 21, 23, 25, 27, 29, 31, 33, 35, 37, 39, 41, 43, 45, 47, 49, 51, 53, 55, 57, 59, 61, 63, 65, 67, 69, 71, 73, 75, 77, 79, 81, 83, 85, 87, 89, 91, 93, 95, 97, 99]\n"
     ]
    }
   ],
   "source": [
    "l = [i for i in range(1,101)]\n",
    "print(\"orginal list\",l)\n",
    "\n",
    "print(\"\\n\")\n",
    "\n",
    "odd_list = [i for i in l if i % 2 != 0]\n",
    "print(\"odd list\", odd_list)"
   ]
  },
  {
   "cell_type": "code",
   "execution_count": null,
   "id": "55ed433e-d9ef-4e12-9234-4e6032dbeac9",
   "metadata": {},
   "outputs": [],
   "source": []
  }
 ],
 "metadata": {
  "kernelspec": {
   "display_name": "Python 3 (ipykernel)",
   "language": "python",
   "name": "python3"
  },
  "language_info": {
   "codemirror_mode": {
    "name": "ipython",
    "version": 3
   },
   "file_extension": ".py",
   "mimetype": "text/x-python",
   "name": "python",
   "nbconvert_exporter": "python",
   "pygments_lexer": "ipython3",
   "version": "3.10.8"
  }
 },
 "nbformat": 4,
 "nbformat_minor": 5
}
