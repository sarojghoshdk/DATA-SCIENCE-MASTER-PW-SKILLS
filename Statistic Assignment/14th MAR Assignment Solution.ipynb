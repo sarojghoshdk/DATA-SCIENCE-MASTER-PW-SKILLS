{
 "cells": [
  {
   "cell_type": "markdown",
   "id": "a6264ab2-f001-4b88-b465-fa6ece9079d4",
   "metadata": {},
   "source": [
    "## Q1. Write a Python function that takes in two arrays of data and calculates the F-value for a variance ratio test. The function should return the F-value and the corresponding p-value for the test."
   ]
  },
  {
   "cell_type": "code",
   "execution_count": 4,
   "id": "f70b23a4-1387-46da-bfc8-89e848e546bf",
   "metadata": {},
   "outputs": [
    {
     "name": "stdout",
     "output_type": "stream",
     "text": [
      "F-value: 3.88\n",
      "P-value: 0.8912353897462784\n"
     ]
    }
   ],
   "source": [
    "import numpy as np\n",
    "import scipy.stats as stat\n",
    "\n",
    "def variance_ratio_test(arr1 , arr2):\n",
    "    variance1 = np.var(arr1)\n",
    "    variance2 = np.var(arr2)\n",
    "    f_value = variance1 / variance2\n",
    "    df1 = len(arr1) - 1\n",
    "    df2 = len(arr2) - 1\n",
    "    p_value = stat.f.cdf(f_value , df1 , df2)\n",
    "    return f_value , p_value\n",
    "\n",
    "arr1 = [100,20,30,40,50]\n",
    "arr2 = [60,70,80,90,100]\n",
    "\n",
    "f_value , p_value = variance_ratio_test(arr1 , arr2)\n",
    "\n",
    "print(f\"F-value:\", f_value)\n",
    "print(f\"P-value:\", p_value)"
   ]
  },
  {
   "cell_type": "markdown",
   "id": "bc492293-de19-48ff-86f7-4963670be73d",
   "metadata": {},
   "source": [
    "## Q2. Given a significance level of 0.05 and the degrees of freedom for the numerator and denominator of an F-distribution, write a Python function that returns the critical F-value for a two-tailed test."
   ]
  },
  {
   "cell_type": "code",
   "execution_count": 7,
   "id": "eaf5ecd4-4769-4874-bf92-226976696990",
   "metadata": {},
   "outputs": [
    {
     "data": {
      "text/plain": [
       "2.741310828338778"
      ]
     },
     "execution_count": 7,
     "metadata": {},
     "output_type": "execute_result"
    }
   ],
   "source": [
    "import scipy.stats as stat\n",
    "\n",
    "def critical_f_value(signifance_value,df1,df2):\n",
    "    critical_value = stat.f.ppf(q = 1 - signifance_value , dfn = df1 , dfd = df2)\n",
    "    return critical_value\n",
    "\n",
    "signifance_value = 0.05\n",
    "df1 = 6\n",
    "df2 = 16\n",
    "\n",
    "critical_value = critical_f_value(signifance_value,df1,df2)\n",
    "critical_value"
   ]
  },
  {
   "cell_type": "markdown",
   "id": "d67ac455-63fe-4858-94e6-b3e235ee691d",
   "metadata": {},
   "source": [
    "## Q3. Write a Python program that generates random samples from two normal distributions with known variances and uses an F-test to determine if the variances are equal. The program should output the F-value, degrees of freedom, and p-value for the test."
   ]
  },
  {
   "cell_type": "code",
   "execution_count": 12,
   "id": "e1a78c08-1700-4a2a-a4d0-ed2657e092e7",
   "metadata": {},
   "outputs": [
    {
     "name": "stdout",
     "output_type": "stream",
     "text": [
      "F-value: 3.0332\n",
      "Degrees of freedom (numerator): 19\n",
      "Degrees of freedom (denominator): 29\n",
      "P-value: 0.9965\n"
     ]
    }
   ],
   "source": [
    "import numpy as np\n",
    "import scipy.stats as stat\n",
    "\n",
    "def f_test(sample1 , sample2):\n",
    "    sample1_variance = np.var(sample1)\n",
    "    sample2_variance = np.var(sample2)\n",
    "    f_value = sample1_variance/sample2_variance if sample1_variance > sample2_variance else sample2_variance/sample1_variance\n",
    "    dfn = len(sample1) - 1 if sample1_variance > sample2_variance else len(sample2) - 1 \n",
    "    dfd = len(sample2) - 1 if sample1_variance > sample2_variance else len(sample1) - 1 \n",
    "    p_value = stat.f.cdf(f_value , dfn ,dfd)\n",
    "    \n",
    "    return f_value , dfn , dfd , p_value\n",
    "\n",
    "sample1 = np.random.normal(10, 2, size=30)\n",
    "sample2 = np.random.normal(10, 3, size=20)\n",
    "\n",
    "\n",
    "f_value, dfn, dfd, p_value = f_test(sample1, sample2)\n",
    "\n",
    "print(f\"F-value: {f_value:.4f}\")\n",
    "print(f\"Degrees of freedom (numerator): {dfn}\")\n",
    "print(f\"Degrees of freedom (denominator): {dfd}\")\n",
    "print(f\"P-value: {p_value:.4f}\")"
   ]
  },
  {
   "cell_type": "markdown",
   "id": "da6328ed-2a31-456c-ad96-2e157795a9ef",
   "metadata": {},
   "source": [
    "## Q4.The variances of two populations are known to be 10 and 15. A sample of 12 observations is taken from each population. Conduct an F-test at the 5% significance level to determine if the variances are significantly different."
   ]
  },
  {
   "cell_type": "code",
   "execution_count": 14,
   "id": "42c501bf-ed1f-4663-af73-f9743bd5abd1",
   "metadata": {},
   "outputs": [
    {
     "name": "stdout",
     "output_type": "stream",
     "text": [
      "There is no significant difference between the variances.\n"
     ]
    }
   ],
   "source": [
    "import numpy as np\n",
    "import scipy.stats as stat\n",
    "# sample\n",
    "n1 = 12\n",
    "n2 = 12\n",
    "# varience\n",
    "var1 = 10\n",
    "var2 = 15\n",
    "# calculater f-statistics or f value\n",
    "f_test = var1 / var2\n",
    "# calculate degree of freedom\n",
    "df1 = n1 - 1\n",
    "df2 = n2 - 1\n",
    "signifance_value = 0.05\n",
    "\n",
    "# to find critical value\n",
    "critical_value = stat.f.ppf(q = 1 - signifance_value , dfn = df1 , dfd = df2)\n",
    "\n",
    "if f_test > critical_value:\n",
    "    print(\"The variances are significantly different.\")\n",
    "else:\n",
    "    print(\"There is no significant difference between the variances.\")"
   ]
  },
  {
   "cell_type": "markdown",
   "id": "25f856ad-779b-4a6b-9af0-4b40290ff39b",
   "metadata": {},
   "source": [
    "## Q5. A manufacturer claims that the variance of the diameter of a certain product is 0.005. A sample of 25 products is taken, and the sample variance is found to be 0.006. Conduct an F-test at the 1% significance level to determine if the claim is justified."
   ]
  },
  {
   "cell_type": "code",
   "execution_count": 15,
   "id": "bf6850b0-e7bb-4aad-ba9e-7bebb01713b6",
   "metadata": {},
   "outputs": [
    {
     "name": "stdout",
     "output_type": "stream",
     "text": [
      "The manufacturer's claim is justified.\n"
     ]
    }
   ],
   "source": [
    "import numpy as np\n",
    "import scipy.stats as stat\n",
    "# sample\n",
    "n = 25\n",
    "# varience\n",
    "sample_variance  = 0.006\n",
    "hypo_variance  = 0.005\n",
    "# calculater f-statistics or f value\n",
    "f_test = sample_variance / hypo_variance\n",
    "# calculate degree of freedom\n",
    "df1 = n - 1\n",
    "df2 = n - 1\n",
    "signifance_value = 0.01\n",
    "\n",
    "# to find critical value\n",
    "critical_value = stat.f.ppf(q = 1 - signifance_value , dfn = df1 , dfd = df2)\n",
    "\n",
    "if f_test > critical_value:\n",
    "    print(\"The manufacturer's claim is not justified.\")\n",
    "else:\n",
    "    print(\"The manufacturer's claim is justified.\")"
   ]
  },
  {
   "cell_type": "markdown",
   "id": "07309ac3-82df-4e75-86d7-56070b6d3c42",
   "metadata": {},
   "source": [
    "## Q6. Write a Python function that takes in the degrees of freedom for the numerator and denominator of an F-distribution and calculates the mean and variance of the distribution. The function should return the mean and variance as a tuple."
   ]
  },
  {
   "cell_type": "code",
   "execution_count": 1,
   "id": "f7642c86-e3e8-4864-927a-ec6203b447f7",
   "metadata": {},
   "outputs": [
    {
     "name": "stdout",
     "output_type": "stream",
     "text": [
      "Mean:  1.1111111111111112\n",
      "Variance:  0.3395061728395062\n"
     ]
    }
   ],
   "source": [
    "def f_distribution_mean_variance(dfn , dfd):\n",
    "    mean = dfd / (dfd - 2)\n",
    "    variance = ((2 * (dfd**2) * (dfn + dfd - 2))) / (dfn * ((dfd - 2)**2) * (dfd - 4))\n",
    "    return (mean, variance)\n",
    "\n",
    "dfn = 15\n",
    "dfd = 20\n",
    "mean , variance = f_distribution_mean_variance(dfn , dfd)\n",
    "\n",
    "print(\"Mean: \", mean)\n",
    "print(f\"Variance: \", variance)"
   ]
  },
  {
   "cell_type": "markdown",
   "id": "4d5c5437-d0b9-4c99-94d7-c4ee1826b981",
   "metadata": {},
   "source": [
    "## Q7. A random sample of 10 measurements is taken from a normal population with unknown variance. The sample variance is found to be 25. Another random sample of 15 measurements is taken from another normal population with unknown variance, and the sample variance is found to be 20. Conduct an F-test at the 10% significance level to determine if the variances are significantly different."
   ]
  },
  {
   "cell_type": "code",
   "execution_count": 3,
   "id": "dfbdd779-85f9-45f7-878c-2b83020ee8b7",
   "metadata": {},
   "outputs": [
    {
     "name": "stdout",
     "output_type": "stream",
     "text": [
      "There is no significant difference between the variances.\n"
     ]
    }
   ],
   "source": [
    "import numpy as np\n",
    "import scipy.stats as stat\n",
    "# sample\n",
    "sample1 = 10\n",
    "sample2 = 15\n",
    "# varience\n",
    "sample1_variance  = 25\n",
    "sample2_variance  = 20\n",
    "# calculater f-statistics or f value\n",
    "f_test = sample1_variance / sample2_variance\n",
    "# calculate degree of freedom\n",
    "df1 = sample1 - 1\n",
    "df2 = sample2 - 1\n",
    "signifance_value = 0.1\n",
    "\n",
    "# to find critical value\n",
    "critical_value = stat.f.ppf(q = 1 - signifance_value , dfn = df1 , dfd = df2)\n",
    "\n",
    "if f_test > critical_value:\n",
    "    print(\"The variances are significantly different.\")\n",
    "else:\n",
    "    print(\"There is no significant difference between the variances.\")"
   ]
  },
  {
   "cell_type": "markdown",
   "id": "aff25f1a-d53c-4523-a9eb-67bbfde5bd15",
   "metadata": {},
   "source": [
    "## Q8. The following data represent the waiting times in minutes at two different restaurants on a Saturday night:\n",
    "## Restaurant A: 24, 25, 28, 23, 22, 20, 27\n",
    "## Restaurant B: 31, 33, 35, 30, 32, 36 \n",
    "## Conduct an F-test at the 5% significance level to determine if the variances are significantly different."
   ]
  },
  {
   "cell_type": "code",
   "execution_count": 5,
   "id": "de567a57-7039-4ff5-b961-e31f3c43e5a8",
   "metadata": {},
   "outputs": [
    {
     "name": "stdout",
     "output_type": "stream",
     "text": [
      "There is no significant difference between the variances.\n"
     ]
    }
   ],
   "source": [
    "import numpy as np\n",
    "import scipy.stats as stat\n",
    "\n",
    "Restaurant_A = [24, 25, 28, 23, 22, 20, 27]\n",
    "Restaurant_B = [31, 33, 35, 30, 32, 36]\n",
    "\n",
    "f_test = np.var(Restaurant_A)/np.var(Restaurant_B)\n",
    "\n",
    "## Degree OF fReedom\n",
    "df1 = len(Restaurant_A) - 1\n",
    "df2 = len(Restaurant_B) - 1\n",
    "signifance_value = 0.05\n",
    "\n",
    "# to find critical value\n",
    "critical_value = stat.f.ppf(q = 1 - signifance_value , dfn = df1 , dfd = df2)\n",
    "\n",
    "if f_test > critical_value:\n",
    "    print(\"The variances are significantly different.\")\n",
    "else:\n",
    "    print(\"There is no significant difference between the variances.\")"
   ]
  },
  {
   "cell_type": "markdown",
   "id": "3b364299-5f37-4e2f-8790-4e73267f7d06",
   "metadata": {},
   "source": [
    "## Q9. The following data represent the test scores of two groups of students: \n",
    "## Group A: 80, 85, 90, 92, 87, 83\n",
    "## Group B: 75, 78, 82, 79, 81, 84\n",
    "## Conduct an F-test at the 1% significance level to determine if the variances are significantly different."
   ]
  },
  {
   "cell_type": "code",
   "execution_count": 7,
   "id": "3465f91f-4e0c-4352-a4cd-85af3da8dc7e",
   "metadata": {},
   "outputs": [
    {
     "name": "stdout",
     "output_type": "stream",
     "text": [
      "There is no significant difference between the variances.\n"
     ]
    }
   ],
   "source": [
    "import numpy as np\n",
    "import scipy.stats as stat\n",
    "\n",
    "Group_A = [80, 85, 90, 92, 87, 83]\n",
    "Group_B = [75, 78, 82, 79, 81, 84]\n",
    "\n",
    "f_test = np.var(Restaurant_A)/np.var(Restaurant_B)\n",
    "\n",
    "## Degree OF fReedom\n",
    "df1 = len(Group_A) - 1\n",
    "df2 = len(Group_B) - 1\n",
    "signifance_value = 0.05\n",
    "\n",
    "# to find critical value\n",
    "critical_value = stat.f.ppf(q = 1 - signifance_value , dfn = df1 , dfd = df2)\n",
    "\n",
    "if f_test > critical_value:\n",
    "    print(\"The variances are significantly different.\")\n",
    "else:\n",
    "    print(\"There is no significant difference between the variances.\")"
   ]
  },
  {
   "cell_type": "code",
   "execution_count": null,
   "id": "29dd5a19-2384-4f34-96de-8b46efa4f9fc",
   "metadata": {},
   "outputs": [],
   "source": []
  }
 ],
 "metadata": {
  "kernelspec": {
   "display_name": "Python 3 (ipykernel)",
   "language": "python",
   "name": "python3"
  },
  "language_info": {
   "codemirror_mode": {
    "name": "ipython",
    "version": 3
   },
   "file_extension": ".py",
   "mimetype": "text/x-python",
   "name": "python",
   "nbconvert_exporter": "python",
   "pygments_lexer": "ipython3",
   "version": "3.10.8"
  }
 },
 "nbformat": 4,
 "nbformat_minor": 5
}
