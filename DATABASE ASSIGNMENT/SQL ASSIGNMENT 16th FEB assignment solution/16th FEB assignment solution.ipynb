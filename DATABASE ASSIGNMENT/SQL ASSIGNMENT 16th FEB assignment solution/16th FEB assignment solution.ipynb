{
 "cells": [
  {
   "cell_type": "markdown",
   "id": "d6c47de1-6e82-4d51-90e2-9bfff802d88c",
   "metadata": {},
   "source": [
    "Q1. What is a database? Differentiate between SQL and NoSQL databases."
   ]
  },
  {
   "cell_type": "markdown",
   "id": "9ef74d2e-eedb-442e-ad7e-26192442846c",
   "metadata": {},
   "source": [
    "Database :- A database is an organized collection of structured or unstructured data that can be accessed, managed, and updated in a systematic way. Databases are used to store and manage data for various applications, ranging from small-scale personal applications to large-scale enterprise systems."
   ]
  },
  {
   "cell_type": "markdown",
   "id": "6df034c1-39bd-4d9b-a552-2667ee3b6d24",
   "metadata": {},
   "source": [
    "SQL and NoSQL are two different types of databases that differ in their structure, data model, and query language:\n",
    "\n",
    "SQL databases:- SQL stands for Structured Query Language, which is a language used to manage and manipulate relational databases. SQL databases store data in a structured manner, using tables with predefined columns and data types. Each table has a unique key, and the data is stored in rows that correspond to records in the table. SQL databases are highly structured and provide a high level of data integrity and consistency. Some examples of SQL databases include MySQL, Oracle, and PostgreSQL."
   ]
  },
  {
   "cell_type": "markdown",
   "id": "f5d0e9ec-814a-48d9-8267-23c03e123662",
   "metadata": {},
   "source": [
    "NoSQL databases:- NoSQL stands for \"not only SQL\", which means that NoSQL databases are not limited to SQL query language. NoSQL databases store data in a non-structured or semi-structured manner, using documents, key-value pairs, or graphs.Some examples of NoSQL databases include MongoDB, Cassandra, and Redis.\n",
    "\n",
    "In summary, SQL databases are highly structured, provide high data integrity and consistency, and use SQL as a query language. NoSQL databases are highly scalable, provide greater flexibility and agility, and use non-structured or semi-structured data models."
   ]
  },
  {
   "cell_type": "markdown",
   "id": "041809e2-5531-4092-95ed-e2fd71d867e9",
   "metadata": {},
   "source": [
    "Q2. What is DDL? Explain why CREATE, DROP, ALTER, and TRUNCATE are used with an example."
   ]
  },
  {
   "cell_type": "markdown",
   "id": "058505cb-0438-4364-9eb9-380108e30825",
   "metadata": {},
   "source": [
    "ANSWER:- DDL:- DDL stands for Data Definition Language, which is a set of SQL commands used to create, modify, and delete database objects such as tables, indexes, and constraints. DDL is used to define the structure of a database and its objects."
   ]
  },
  {
   "cell_type": "markdown",
   "id": "b00975b0-ecfc-49d1-b0eb-5547a9067f44",
   "metadata": {},
   "source": [
    "List of DDL commands: \n",
    "\n",
    "-->> CREATE: This command is used to create the database or its objects (like table, index)\n",
    "\n",
    "-->> DROP: This command is used to delete objects from the database.\n",
    "\n",
    "-->> ALTER: This is used to alter the structure of the database.\n",
    "\n",
    "-->> TRUNCATE: This is used to remove all records from a table, including all spaces allocated for the records are       removed.\n",
    "\n",
    "-->> COMMENT: This is used to add comments to the data dictionary.\n",
    "\n",
    "-->> RENAME: This is used to rename an object existing in the database."
   ]
  },
  {
   "cell_type": "code",
   "execution_count": null,
   "id": "59b49be6-4478-4eab-b82e-194acdf59b24",
   "metadata": {},
   "outputs": [],
   "source": [
    "# it is example of CREATE method\n",
    "\n",
    "import mysql.connector\n",
    "mydb = mysql.connector.connect(\n",
    "  host=\"localhost\",\n",
    "  user=\"abc\",\n",
    "  password=\"password\"\n",
    ")\n",
    "mycursor = mydb.cursor()\n",
    "mycursor.execute(\"CREATE DATABASE if not exists test\")\n",
    "mycursor.execute(\"CREATE TABLE if not exists test.test_table(name VARCHAR(50) , roll INT , id VARCHAR(30)) ;\")\n",
    "mycursor.execute(\"CREATE TABLE if not exists test.test1_table(name VARCHAR(50) , roll INT , id VARCHAR(30)) ;\")\n",
    "mycursor.execute(\"CREATE TABLE if not exists test.test2_table(name VARCHAR(50) , roll INT , id VARCHAR(30)) ;\")\n",
    "mycursor.execute(\"DROP TABLE test.test_table\")\n",
    "mycursor.execute(\"TRUNCATE TABLE test.test2_table\")\n",
    "mycursor.execute(\"ALTER TABLE test.test1_table ADD Email varchar(20);\")\n",
    "mydb.close()"
   ]
  },
  {
   "cell_type": "markdown",
   "id": "25ac4122-00e6-4ebb-9fc5-1306bcbe63af",
   "metadata": {},
   "source": [
    "Q3. What is DML? Explain INSERT, UPDATE, and DELETE with an example."
   ]
  },
  {
   "cell_type": "markdown",
   "id": "505ad875-f44f-41ee-9a9d-2d66eeb892e3",
   "metadata": {},
   "source": [
    "DML stands for Data Manipulation Language, which is a set of SQL commands used to insert, update, and delete data in a database table. DML commands are used to modify the data stored in a table."
   ]
  },
  {
   "cell_type": "markdown",
   "id": "80ef45ac-0682-44e2-98f2-ff20a74c5353",
   "metadata": {},
   "source": [
    "List of DML commands: \n",
    "\n",
    "--> INSERT : It is used to insert data into a table.\n",
    "\n",
    "--> UPDATE: It is used to update existing data within a table.\n",
    "\n",
    "--> DELETE : It is used to delete records from a database table."
   ]
  },
  {
   "cell_type": "markdown",
   "id": "2cd8e9c0-092a-40ab-8c06-d1c3395a0dea",
   "metadata": {},
   "source": [
    "EX of INSERT::"
   ]
  },
  {
   "cell_type": "code",
   "execution_count": null,
   "id": "b5fc8a93-4552-4d3a-be94-ca8ca7b8a1de",
   "metadata": {},
   "outputs": [],
   "source": [
    "import mysql.connector\n",
    "\n",
    "mydb = mysql.connector.connect(\n",
    "  host=\"localhost\",\n",
    "  user=\"abc\",\n",
    "  password=\"password\"\n",
    ")\n",
    "mycursor = mydb.cursor()\n",
    "\n",
    "mycursor.execute(\"insert into test.test_table values('saroj' , 020 , 'AA')\")\n",
    "mycursor.execute(\"insert into test.test_table values('ram' , 021 , 'DD')\")\n",
    "mycursor.execute(\"insert into test.test_table values('nilu' , 021 , 'AA')\")\n",
    "mycursor.execute(\"insert into test.test_table values('manoj' , 022 , 'CC')\")\n",
    "mycursor.execute(\"insert into test.test_table values('sam' , 023 , 'FF')\")\n",
    "mycursor.execute(\"insert into test.test_table values('rissi' , 024 , 'AA')\")\n",
    "mycursor.execute(\"insert into test.test_table values('kasto' , 025 , 'AA')\")\n",
    "\n",
    "mydb.commit()\n",
    "mydb.close()"
   ]
  },
  {
   "cell_type": "markdown",
   "id": "a89d6995-33e9-4c01-8a91-dd2982a339eb",
   "metadata": {},
   "source": [
    "EX of UPDATE::"
   ]
  },
  {
   "cell_type": "code",
   "execution_count": null,
   "id": "248c9daa-ae54-44eb-bc93-c4a45aa7d442",
   "metadata": {},
   "outputs": [],
   "source": [
    "import mysql.connector \n",
    "\n",
    "mydb = mysql.connector.connect(\n",
    "  host=\"localhost\",\n",
    "  user=\"abc\",\n",
    "  password=\"password\",\n",
    "  database=\"test\"\n",
    ")\n",
    "mycursor = mydb.cursor()\n",
    "mycursor.execute(\"UPDATE test_table SET id = 'EE' WHERE id = 'FF'\")\n",
    "mydb.commit()\n",
    "mydb.close()"
   ]
  },
  {
   "cell_type": "markdown",
   "id": "e0fa6269-c33a-4220-b420-92d3c53dc1f0",
   "metadata": {},
   "source": [
    "EX of DELETE::"
   ]
  },
  {
   "cell_type": "code",
   "execution_count": null,
   "id": "53a20002-b9cf-4272-9c44-158e83621363",
   "metadata": {},
   "outputs": [],
   "source": [
    "import mysql.connector \n",
    "\n",
    "mydb = mysql.connector.connect(\n",
    "  host=\"localhost\",\n",
    "  user=\"abc\",\n",
    "  password=\"password\",\n",
    ")\n",
    "mycursor = mydb.cursor()\n",
    "mycursor.execute(\"DELETE FROM test.test_table WHERE id = 'DD'\")\n",
    "mydb.commit()\n",
    "mydb.close()"
   ]
  },
  {
   "cell_type": "markdown",
   "id": "0a2f0993-a4c8-4c3b-be4b-424000fd3562",
   "metadata": {},
   "source": [
    "Q4. What is DQL? Explain SELECT with an example."
   ]
  },
  {
   "cell_type": "markdown",
   "id": "7d82ede3-f9fb-408b-8adc-5dca7f9e9d3b",
   "metadata": {},
   "source": [
    "ANSWER:- DQL stands for Data Query Language, which is a set of SQL commands used to retrieve data from a database table. DQL commands are used to query the data stored in a table."
   ]
  },
  {
   "cell_type": "markdown",
   "id": "f9828a7c-e3dd-4645-8030-99c781ef4eaa",
   "metadata": {},
   "source": [
    "List of DQL: \n",
    "\n",
    "SELECT: It is used to retrieve data from the database."
   ]
  },
  {
   "cell_type": "markdown",
   "id": "ccecc969-82c8-4312-baff-fa810cb16479",
   "metadata": {},
   "source": [
    "EX of SELECT::"
   ]
  },
  {
   "cell_type": "code",
   "execution_count": null,
   "id": "f561ccda-35f2-47e2-921c-c595d97f8d05",
   "metadata": {},
   "outputs": [],
   "source": [
    "import mysql.connector\n",
    "mydb = mysql.connector.connect(    # it is creating connection\n",
    "  host=\"localhost\",\n",
    "  user=\"abc\",\n",
    "  password=\"password\"\n",
    ")\n",
    "mycursor = mydb.cursor() # upto this it is used for any database creating\n",
    "mycursor.execute(\"select * from test.test_table\")  \n",
    "for i in mycursor.fetchall() :\n",
    "    print(i)\n",
    "mydb.close()  # to close the connection"
   ]
  },
  {
   "cell_type": "markdown",
   "id": "02605cb5-0b43-412c-bcfa-cad206967403",
   "metadata": {},
   "source": [
    "Q5. Explain Primary Key and Foreign Key."
   ]
  },
  {
   "cell_type": "markdown",
   "id": "cb0c8ec6-c266-4669-8e61-9142b9d09089",
   "metadata": {},
   "source": [
    "ANSWER:- \n",
    "\n",
    "Primary key:- A primary key is the column or columns that contain values that uniquely identify each row in a table. A database table must have a primary key for Optim to insert, update, restore, or delete data from a database table.\n",
    "\n",
    "Foreign Key:- it is an attributs or set of attributes that reference to primary key of same table or another table.\n",
    "In SQL, a foreign key is a column or group of columns in a table that refers to the primary key of another table. It establishes a relationship between two tables.\n",
    "\n",
    "for example two table is present one is student_data & another is course_data. this two table is related with each other, in student_data there is one colume is present name is roll_no , it is the primary key of student_data table & in course_data table there is also a colume present name is roll_no,this colume value or values is same as present in student_data table roll_no colume. in this course_data table the roll_no colume is called as a foreign key. "
   ]
  },
  {
   "cell_type": "markdown",
   "id": "dcc7e421-a8d4-4943-9f2c-6bee22ccfdc1",
   "metadata": {},
   "source": [
    "Q6. Write a python code to connect MySQL to python. Explain the cursor() and execute() method."
   ]
  },
  {
   "cell_type": "markdown",
   "id": "716f0c8b-76df-4dbe-badb-b479037f5ff0",
   "metadata": {},
   "source": [
    "ANSWER:- "
   ]
  },
  {
   "cell_type": "code",
   "execution_count": null,
   "id": "ffa71ac2-fcae-411c-9211-4141ef4fb588",
   "metadata": {},
   "outputs": [],
   "source": [
    "import mysql.connector\n",
    "\n",
    "mydb = mysql.connector.connect(\n",
    "  host=\"localhost\",\n",
    "  user=\"abc\",\n",
    "  password=\"password\"\n",
    ")\n",
    "mycursor = mydb.cursor()\n",
    "mycursor.execute(\"CREATE DATABASE if not exists test\")\n",
    "mydb.close() "
   ]
  },
  {
   "cell_type": "markdown",
   "id": "4f5ad327-1b5d-4229-a413-fa76c5dd7ab8",
   "metadata": {},
   "source": [
    "cursor():-\n",
    "\n",
    "        The cursor() method in Python is used to create a cursor object, which allows us to execute SQL commands on the database. The cursor object provides methods to execute SQL commands, fetch data from the database, and handle transactions."
   ]
  },
  {
   "cell_type": "markdown",
   "id": "3f4bb7b8-ecdf-4330-a9c1-c2491ba06060",
   "metadata": {},
   "source": [
    "execute():-\n",
    "\n",
    "        The execute() method is used to execute SQL commands on the database using the cursor object. It takes an SQL query as its argument and returns the result of the query. For example, to execute a SELECT query on a MySQL database using the cursor object,"
   ]
  },
  {
   "cell_type": "markdown",
   "id": "fb289e3b-7f46-4207-be40-40030cba38ea",
   "metadata": {},
   "source": [
    "Q7. Give the order of execution of SQL clauses in an SQL query."
   ]
  },
  {
   "cell_type": "markdown",
   "id": "6a150ba5-b792-4936-8ca4-b6804fe3707f",
   "metadata": {},
   "source": [
    "--> FROM clause: The FROM clause specifies the table or tables from which the data is selected.\n",
    "\n",
    "--> WHERE clause: The WHERE clause filters the rows returned by the query based on a specified condition.\n",
    "\n",
    "--> GROUP BY clause: The GROUP BY clause groups the result set by one or more columns.\n",
    "\n",
    "--> HAVING clause: The HAVING clause filters the groups returned by the GROUP BY clause based on a specified condition.\n",
    "\n",
    "--> SELECT clause: The SELECT clause selects the columns to be returned by the query and can include aggregate functions, expressions, and aliases.\n",
    "\n",
    "--> ORDER BY clause: The ORDER BY clause sorts the result set by one or more columns.\n",
    "\n",
    "--> LIMIT clause: The LIMIT clause limits the number of rows returned by the query.\n",
    "\n",
    "Note that not all SQL queries include all of these clauses, and the order of execution may vary based on the specific query. However, in general, this is the typical order of execution for a standard SQL query."
   ]
  },
  {
   "cell_type": "code",
   "execution_count": null,
   "id": "1f957dd7-c59a-4efc-8c33-a25d83ca22e3",
   "metadata": {},
   "outputs": [],
   "source": []
  }
 ],
 "metadata": {
  "kernelspec": {
   "display_name": "Python 3 (ipykernel)",
   "language": "python",
   "name": "python3"
  },
  "language_info": {
   "codemirror_mode": {
    "name": "ipython",
    "version": 3
   },
   "file_extension": ".py",
   "mimetype": "text/x-python",
   "name": "python",
   "nbconvert_exporter": "python",
   "pygments_lexer": "ipython3",
   "version": "3.10.8"
  }
 },
 "nbformat": 4,
 "nbformat_minor": 5
}
