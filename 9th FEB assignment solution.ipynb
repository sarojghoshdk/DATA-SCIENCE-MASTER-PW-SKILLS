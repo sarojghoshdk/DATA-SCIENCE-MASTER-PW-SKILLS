{
 "cells": [
  {
   "cell_type": "markdown",
   "id": "e03b3831-11ef-4689-98e0-e8eec985e815",
   "metadata": {},
   "source": [
    "Q1, Create a vehicle class with an init method having instance variables as name_of_vehicle, max_speed\n",
    "and average_of_vehicle."
   ]
  },
  {
   "cell_type": "code",
   "execution_count": 3,
   "id": "c9f0029a-c91e-4961-9840-d2a4d2cb2466",
   "metadata": {},
   "outputs": [
    {
     "name": "stdout",
     "output_type": "stream",
     "text": [
      "Boolero Car\n",
      "300\n",
      "50\n",
      "('Boolero Car', 300, 50)\n"
     ]
    }
   ],
   "source": [
    "class vehicle:\n",
    "    \n",
    "    def __init__(self , name_of_vehicle , max_speed , average_of_vehicle ):\n",
    "        self.name_of_vehicle = name_of_vehicle\n",
    "        self.max_speed = max_speed\n",
    "        self.average_of_vehicle = average_of_vehicle\n",
    "        \n",
    "    def return_vehicle_details(self):\n",
    "        return self.name_of_vehicle , self.max_speed , self.average_of_vehicle\n",
    "    \n",
    "car = vehicle(\"Boolero Car\" , 300 , 50)\n",
    "print(car.name_of_vehicle)\n",
    "print(car.max_speed)\n",
    "print(car.average_of_vehicle)\n",
    "print(car.return_vehicle_details())"
   ]
  },
  {
   "cell_type": "markdown",
   "id": "bda5d4a6-73d3-455b-b082-47ae2be758ab",
   "metadata": {},
   "source": [
    "Q2. Create a child class car from the vehicle class created in Que 1, which will inherit the vehicle class.\n",
    "Create a method named seating_capacity which takes capacity as an argument and returns the name of\n",
    "the vehicle and its seating capacity."
   ]
  },
  {
   "cell_type": "code",
   "execution_count": 7,
   "id": "587aa17c-d30a-4bd9-affd-dfce4235f36b",
   "metadata": {},
   "outputs": [
    {
     "data": {
      "text/plain": [
       "'The seating capacity of Boolero Car is 15'"
      ]
     },
     "execution_count": 7,
     "metadata": {},
     "output_type": "execute_result"
    }
   ],
   "source": [
    "class car(vehicle):          # Child class of above vehicle class\n",
    "    \n",
    "    def seating_capacity(self , capacity):\n",
    "        return f\"The seating capacity of {self.name_of_vehicle} is {capacity}\"\n",
    "    \n",
    "car_obj = car(\"Boolero Car\" , 300 , 50)\n",
    "car_obj.seating_capacity(15)"
   ]
  },
  {
   "cell_type": "markdown",
   "id": "d78dfa26-5032-4fab-b841-6edcdb799828",
   "metadata": {},
   "source": [
    "Q3. What is multiple inheritance? Write a python code to demonstrate multiple inheritance."
   ]
  },
  {
   "cell_type": "markdown",
   "id": "86a2828d-5a74-4469-858a-7ddf70a18609",
   "metadata": {},
   "source": [
    "Multiple Inheritance:- When a class can be derived from more than one base class this type of inheritance is called multiple inheritances. In multiple inheritances, all the features of the base classes are inherited into the derived class."
   ]
  },
  {
   "cell_type": "code",
   "execution_count": 9,
   "id": "e1edc192-ba43-4d48-9b47-7c55d0414b7b",
   "metadata": {},
   "outputs": [
    {
     "name": "stdout",
     "output_type": "stream",
     "text": [
      "this is father class\n",
      "this is mother class\n",
      "this is son class\n"
     ]
    }
   ],
   "source": [
    "class mother:         # Base class\n",
    "    def func_mother(self):\n",
    "        print(\"this is mother class\")\n",
    "        \n",
    "class father:        # Base class\n",
    "    def func_father(self):\n",
    "        print(\"this is father class\")\n",
    "        \n",
    "class son(mother , father):     # A class more than one base class is derived \n",
    "    def func_son(self):\n",
    "        print(\"this is son class\")\n",
    "        \n",
    "son_obj = son()\n",
    "son_obj.func_father()\n",
    "son_obj.func_mother()\n",
    "son_obj.func_son()"
   ]
  },
  {
   "cell_type": "markdown",
   "id": "495066d9-c35d-4de3-8214-c0cb08aa164c",
   "metadata": {},
   "source": [
    "Q4. What are getter and setter in python? Create a class and create a getter and a setter method in this\n",
    "class."
   ]
  },
  {
   "cell_type": "markdown",
   "id": "24c85025-ea63-4ec2-b35d-12ff68b85ae6",
   "metadata": {},
   "source": [
    "ANSWER: -  Getters and setters are methods in object-oriented programming that allow you to control access to the attributes of an object. A getter method is used to get the value of an attribute, while a setter \n",
    "method is used to set the value of an attribute."
   ]
  },
  {
   "cell_type": "code",
   "execution_count": 7,
   "id": "ebc14226-22e5-4050-ac9a-a0885e606bb2",
   "metadata": {},
   "outputs": [
    {
     "name": "stdout",
     "output_type": "stream",
     "text": [
      "Before Set the price Actual Price: 3500\n",
      "After Set the price User modified Price: 3900\n"
     ]
    }
   ],
   "source": [
    "class pwskills:\n",
    "    \n",
    "    def __init__(self , course_price , course_name):\n",
    "        self.__course_price = course_price      # this is private function which user cannot get or access this function\n",
    "        self.course_name = course_name\n",
    "    \n",
    "    @property\n",
    "    def get_course_price(self):        # this is getter for get the value from the private function\n",
    "        return self.__course_price\n",
    "    \n",
    "    @get_course_price.setter\n",
    "    def course_price_set(self , price):    # this is setter for set the value by user for user access\n",
    "        if price < 3500:\n",
    "            pass\n",
    "        else:\n",
    "            self.__course_price = price\n",
    "            \n",
    "            \n",
    "pw = pwskills(3500 , \"DSM\")\n",
    "print(\"Before Set the price Actual Price:\",pw.get_course_price)\n",
    "pw.course_price_set = 3900\n",
    "print(\"After Set the price User modified Price:\",pw.get_course_price)"
   ]
  },
  {
   "cell_type": "markdown",
   "id": "73389a21-1d20-4d53-ad76-00ca40707243",
   "metadata": {},
   "source": [
    "Q5.What is method overriding in python? Write a python code to demonstrate method overriding."
   ]
  },
  {
   "cell_type": "markdown",
   "id": "edc22bb0-06fa-4001-8b0b-5f882731102d",
   "metadata": {},
   "source": [
    "ANSWER: - \n",
    "\n",
    "Method Overriding:- Method overriding is a concept in object-oriented programming (OOP) where a subclass (i.e., a child class) provides a different implementation of a method that is already defined in its superclass (i.e., a parent class). \n",
    "\n",
    "In other word parent class is overriding by the child class."
   ]
  },
  {
   "cell_type": "code",
   "execution_count": 11,
   "id": "fc62ad71-13f6-412f-a0a7-c13023a88e14",
   "metadata": {},
   "outputs": [
    {
     "name": "stdout",
     "output_type": "stream",
     "text": [
      "The Dog Barks\n"
     ]
    }
   ],
   "source": [
    "class animal:\n",
    "    def make_sound(self):\n",
    "        print(\"The Animal makes a sound\")\n",
    "        \n",
    "class dog(animal):\n",
    "    def make_sound(self):\n",
    "        print(\"The Dog Barks\")\n",
    "\n",
    "# Create an object of the Dog class\n",
    "my_dog = dog()\n",
    "\n",
    "# Call the make_sound method on the Dog object\n",
    "my_dog.make_sound()"
   ]
  },
  {
   "cell_type": "markdown",
   "id": "69eb5f52-8c85-4b68-98ca-1a2a3ef7c1f5",
   "metadata": {},
   "source": [
    "In this example, the Dog class overrides the make_sound method that is defined in the Animal class. When you call the make_sound method on the my_dog object, the Dog class's implementation of the method is called, and the output will be \"The dog barks.\""
   ]
  },
  {
   "cell_type": "code",
   "execution_count": null,
   "id": "1a0cc09d-40ac-4a7a-a376-9c6b2ecbb8d3",
   "metadata": {},
   "outputs": [],
   "source": []
  }
 ],
 "metadata": {
  "kernelspec": {
   "display_name": "Python 3 (ipykernel)",
   "language": "python",
   "name": "python3"
  },
  "language_info": {
   "codemirror_mode": {
    "name": "ipython",
    "version": 3
   },
   "file_extension": ".py",
   "mimetype": "text/x-python",
   "name": "python",
   "nbconvert_exporter": "python",
   "pygments_lexer": "ipython3",
   "version": "3.10.8"
  }
 },
 "nbformat": 4,
 "nbformat_minor": 5
}
