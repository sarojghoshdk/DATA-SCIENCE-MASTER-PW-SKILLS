{
 "cells": [
  {
   "cell_type": "code",
   "execution_count": 1,
   "id": "3fb520f7-1647-4241-8874-b15ef7ac935a",
   "metadata": {},
   "outputs": [
    {
     "name": "stdin",
     "output_type": "stream",
     "text": [
      " 99\n"
     ]
    },
    {
     "name": "stdout",
     "output_type": "stream",
     "text": [
      "GRADE: A\n"
     ]
    }
   ],
   "source": [
    "# Q1. Write a program to accept percentage from the user and display the grade according to the following criteria:\n",
    "\n",
    "marks = int(input())\n",
    "\n",
    "if marks > 90:\n",
    "    print(\"GRADE: A\")\n",
    "elif marks > 80 and marks <= 90:\n",
    "     print(\"GRADE: B\")\n",
    "elif marks >= 60 and marks <= 80:\n",
    "     print(\"GRADE: C\")\n",
    "else:\n",
    "    print(\"GRADE: D\")\n",
    "    "
   ]
  },
  {
   "cell_type": "code",
   "execution_count": 2,
   "id": "ca16813b-d57c-471b-a391-6e186b0767e9",
   "metadata": {},
   "outputs": [
    {
     "name": "stdin",
     "output_type": "stream",
     "text": [
      " 55555\n"
     ]
    },
    {
     "name": "stdout",
     "output_type": "stream",
     "text": [
      "ROAD TAX IS: 10%\n"
     ]
    }
   ],
   "source": [
    "# Q2. Write a program to accept the cost price of a bike and display the road tax to be paid according to the following criteria:\n",
    "\n",
    "cost_price = int(input())\n",
    "\n",
    "if cost_price > 100000:\n",
    "    print(\"ROAD TAX IS: 15%\")\n",
    "elif cost_price > 50000 and cost_price <= 100000:\n",
    "    print(\"ROAD TAX IS: 10%\")\n",
    "else:\n",
    "    print(\"ROAD TAX IS: 5%\")"
   ]
  },
  {
   "cell_type": "code",
   "execution_count": 3,
   "id": "9bfd9883-c3dc-4ad6-adc1-589a4beef7e0",
   "metadata": {},
   "outputs": [
    {
     "name": "stdin",
     "output_type": "stream",
     "text": [
      " Delhi\n"
     ]
    },
    {
     "name": "stdout",
     "output_type": "stream",
     "text": [
      "Monument of the city: Red Fort\n"
     ]
    }
   ],
   "source": [
    "# Q3. Accept any city from the user and display monuments of that city.\n",
    "\n",
    "city = input()\n",
    "\n",
    "if city == 'Delhi':\n",
    "    print(\"Monument of the city: Red Fort\")\n",
    "if city == 'Agra':\n",
    "    print(\"Monument of the city: Taj Mahal\")\n",
    "if city == 'Jaipur':\n",
    "    print(\"Monument of the city: Jal Mahal\")\n",
    "    "
   ]
  },
  {
   "cell_type": "code",
   "execution_count": 4,
   "id": "080f26d2-2d5c-4f71-8534-dab38728cd48",
   "metadata": {},
   "outputs": [
    {
     "name": "stdin",
     "output_type": "stream",
     "text": [
      " 1236\n"
     ]
    },
    {
     "name": "stdout",
     "output_type": "stream",
     "text": [
      "5\n"
     ]
    }
   ],
   "source": [
    "#4. Check how many times a given number can be divided by 3 before it is less than or equal to 10.\n",
    "\n",
    "num = int(input())\n",
    "count = 0\n",
    "\n",
    "while num >= 10:\n",
    "    num = num / 3\n",
    "    count += 1\n",
    "print(count)"
   ]
  },
  {
   "cell_type": "code",
   "execution_count": 5,
   "id": "bc0989e7-d885-477f-b0a8-797dbe84df65",
   "metadata": {},
   "outputs": [
    {
     "name": "stdin",
     "output_type": "stream",
     "text": [
      " 10\n"
     ]
    },
    {
     "name": "stdout",
     "output_type": "stream",
     "text": [
      "1\n",
      "2\n",
      "3\n",
      "4\n",
      "5\n",
      "6\n",
      "7\n",
      "8\n",
      "9\n"
     ]
    }
   ],
   "source": [
    "#5. Why and When to Use while Loop in Python give a detailed description with example\n",
    "\n",
    "\"\"\"ANSWER:-- \n",
    "            Python while loop is used to run a block code until a certain condition is met.\n",
    "\n",
    "The syntax of while loop is:\n",
    "\n",
    "while condition:\n",
    "    # body of while loop\n",
    "\n",
    "In the while loop:\n",
    "\n",
    "1. A while loop evaluates the condition\n",
    "2. If the condition evaluates to True, the code inside the while loop is executed.\n",
    "3. condition is evaluated again.\n",
    "4. This process continues until the condition is False.\n",
    "5. When condition evaluates to False, the loop stops.\n",
    "\n",
    "EXAMPLE:-\"\"\"\n",
    "\n",
    "n = int(input())\n",
    "i=1\n",
    "while(i < n):\n",
    "    print(i)\n",
    "    i += 1"
   ]
  },
  {
   "cell_type": "code",
   "execution_count": 11,
   "id": "b95a5b12-7407-42fc-8f42-9b4002e69788",
   "metadata": {},
   "outputs": [
    {
     "name": "stdin",
     "output_type": "stream",
     "text": [
      " 4\n"
     ]
    },
    {
     "name": "stdout",
     "output_type": "stream",
     "text": [
      "* \n",
      "* * \n",
      "* * * \n",
      "* * * * \n",
      "...................\n",
      "      * \n",
      "    * * \n",
      "  * * * \n",
      "* * * * \n",
      "...................\n",
      "* * * * \n",
      "* * * \n",
      "* * \n",
      "* \n"
     ]
    }
   ],
   "source": [
    "#Q6. Use nested while loop to print 3 different pattern.\n",
    "\n",
    "n = int(input())\n",
    "i=1\n",
    "\n",
    "while(i <= n):\n",
    "    j=1\n",
    "    while(j <= i):\n",
    "        print(\"*\", end = \" \")\n",
    "        j = j+1\n",
    "    print(\"\")\n",
    "    i = i+1\n",
    "    \n",
    "    \n",
    "print(\"...................\")\n",
    "\n",
    "i = n\n",
    "while i >= 1:\n",
    "    j = 1\n",
    "    while j <= n:\n",
    "        if j >= i:\n",
    "            print(\"*\", end=\" \")\n",
    "        else:\n",
    "            print(\" \", end=\" \")\n",
    "        j += 1\n",
    "    print(\"\")\n",
    "    i -= 1\n",
    "\n",
    "print(\"...................\")\n",
    "\n",
    "i = 1    \n",
    "while(i <= n):\n",
    "    j=n\n",
    "    while(j >= i):\n",
    "        print(\"*\", end = \" \")\n",
    "        j = j-1\n",
    "    print(\"\")\n",
    "    i = i+1\n",
    "    \n"
   ]
  },
  {
   "cell_type": "code",
   "execution_count": 9,
   "id": "1d8124f0-f2a6-4b55-8174-4051ce262cc8",
   "metadata": {},
   "outputs": [
    {
     "name": "stdout",
     "output_type": "stream",
     "text": [
      "10\n",
      "9\n",
      "8\n",
      "7\n",
      "6\n",
      "5\n",
      "4\n",
      "3\n",
      "2\n",
      "1\n"
     ]
    }
   ],
   "source": [
    "#7. Reverse a while loop to display numbers from 10 to 1.\n",
    "n = 10\n",
    "while(n >= 1):\n",
    "    print(n)\n",
    "    n = n-1"
   ]
  },
  {
   "cell_type": "code",
   "execution_count": 10,
   "id": "13b805ab-9c70-4a3b-966a-9feddfc1d2c3",
   "metadata": {},
   "outputs": [
    {
     "name": "stdout",
     "output_type": "stream",
     "text": [
      "10\n",
      "9\n",
      "8\n",
      "7\n",
      "6\n",
      "5\n",
      "4\n",
      "3\n",
      "2\n",
      "1\n"
     ]
    }
   ],
   "source": [
    "#8. Reverse a while loop to display numbers from 10 to 1.\n",
    "n = 10\n",
    "while(n >= 1):\n",
    "    print(n)\n",
    "    n = n-1"
   ]
  },
  {
   "cell_type": "code",
   "execution_count": null,
   "id": "1ab9d10e-ac09-4954-9547-ff386e16dde5",
   "metadata": {},
   "outputs": [],
   "source": []
  }
 ],
 "metadata": {
  "kernelspec": {
   "display_name": "Python 3 (ipykernel)",
   "language": "python",
   "name": "python3"
  },
  "language_info": {
   "codemirror_mode": {
    "name": "ipython",
    "version": 3
   },
   "file_extension": ".py",
   "mimetype": "text/x-python",
   "name": "python",
   "nbconvert_exporter": "python",
   "pygments_lexer": "ipython3",
   "version": "3.10.8"
  }
 },
 "nbformat": 4,
 "nbformat_minor": 5
}
