{
 "cells": [
  {
   "cell_type": "markdown",
   "id": "d126141a-c16e-4b03-ac34-9e5e919078a2",
   "metadata": {},
   "source": [
    "Q1. You are writing code for a company. The requirement of the company is that you create a python\n",
    "function that will check whether the password entered by the user is correct or not. The function should\n",
    "take the password as input and return the string “Valid Password” if the entered password follows the\n",
    "below-given password guidelines else it should return “Invalid Password”.\n",
    "\n",
    "Note: 1. The Password should contain at least two uppercase letters and at least two lowercase letters.\n",
    "\n",
    "2. The Password should contain at least a number and three special characters.\n",
    "\n",
    "3. The length of the password should be 10 characters long."
   ]
  },
  {
   "cell_type": "code",
   "execution_count": 15,
   "id": "f071af54-44f2-412c-bb80-ccca1bb4828b",
   "metadata": {},
   "outputs": [
    {
     "name": "stdin",
     "output_type": "stream",
     "text": [
      "enter password: ABcd2@!#5%\n"
     ]
    },
    {
     "name": "stdout",
     "output_type": "stream",
     "text": [
      "Valid Password\n"
     ]
    }
   ],
   "source": [
    "def password(pas):\n",
    "    u , l , d , s = 0 , 0 , 0 , 0\n",
    "    uppercase = \"ABCDEFGHIJKLMNOPQRSTUVWXYZ\"\n",
    "    lowercase = \"abcdefghijklmnopqrstuvwxyz\"\n",
    "    digit = \"0123456789\"\n",
    "    special = \"@$&#!%^*_\"\n",
    "    \n",
    "    if (len(pas) == 10):\n",
    "        for i in pas:\n",
    "            if(i in uppercase):\n",
    "                u += 1\n",
    "            elif(i in lowercase):\n",
    "                l += 1\n",
    "            elif(i in digit):\n",
    "                d += 1\n",
    "            elif(i in special):\n",
    "                s += 1\n",
    "            \n",
    "    if (u >= 2 and l >= 2 and d >= 1 and s >= 3):\n",
    "        print(\"Valid Password\")\n",
    "    else:\n",
    "        print(\"nvalid Password\")\n",
    "        \n",
    "pas = input(\"enter password:\")\n",
    "password(pas)\n",
    "        "
   ]
  },
  {
   "cell_type": "markdown",
   "id": "14010c9b-82fd-420f-961d-8b0cdd015d34",
   "metadata": {},
   "source": [
    "Q2. Solve the below-given questions using at least one of the following:\n",
    "    \n",
    "1. Lambda function\n",
    "\n",
    "2. Filter function\n",
    "\n",
    "3. Map function\n",
    "\n",
    "4. List Comprehension\n",
    "\n",
    "--> Check if the string starts with a particular letter\n",
    "\n",
    "--> Check if the string is numeric\n",
    "\n",
    "--> Sort a list of tuples having fruit names and their quantity. [(\"mango\",99),(\"orange\",80), (\"grapes\", 1000)]\n",
    "\n",
    "--> Find the squares of numbers from 1 to 10\n",
    "\n",
    "--> Find the cube root of numbers from 1 to 10\n",
    "\n",
    "--> Check if a given number is even\n",
    "\n",
    "--> Filter odd numbers from the given list.\n",
    "    [1,2,3,4,5,6,7,8,9,10]\n",
    "    \n",
    "--> Sort a list of integers into positive and negative integers lists.\n",
    "    [1,2,3,4,5,6,-1,-2,-3,-4,-5,0]"
   ]
  },
  {
   "cell_type": "code",
   "execution_count": 9,
   "id": "31d0f9d8-1a3a-4394-8f96-463024724713",
   "metadata": {},
   "outputs": [
    {
     "name": "stdout",
     "output_type": "stream",
     "text": [
      "False\n",
      "True\n",
      "True\n"
     ]
    }
   ],
   "source": [
    "# Check if the string starts with a particular letter\n",
    "\n",
    "a = lambda string , letter : string[0] == letter\n",
    "print(a(\"PW\" , \"h\"))\n",
    "print(a(\"PW\" , \"P\"))\n",
    "print(a(\"pW\" , \"p\"))"
   ]
  },
  {
   "cell_type": "code",
   "execution_count": 15,
   "id": "0cc25072-af01-4b19-9995-29c7f599bf25",
   "metadata": {},
   "outputs": [
    {
     "name": "stdout",
     "output_type": "stream",
     "text": [
      "True\n",
      "False\n",
      "False\n"
     ]
    }
   ],
   "source": [
    "# Check if the string is numeric\n",
    "\n",
    "b = lambda string : string.isnumeric()\n",
    "print(b(\"123\"))\n",
    "print(b(\"12g3\"))\n",
    "print(b(\"asd\"))"
   ]
  },
  {
   "cell_type": "code",
   "execution_count": 33,
   "id": "4bdd1a9e-414f-4f16-87ae-82874e619c52",
   "metadata": {},
   "outputs": [
    {
     "data": {
      "text/plain": [
       "[('grapes', 1000), ('mango', 99), ('orange', 80)]"
      ]
     },
     "execution_count": 33,
     "metadata": {},
     "output_type": "execute_result"
    }
   ],
   "source": [
    "#Sort a list of tuples having fruit names and their quantity. [(\"mango\",99),(\"orange\",80), (\"grapes\", 1000)]\n",
    "\n",
    "l = [(\"mango\",99),(\"orange\",80), (\"grapes\", 1000)]\n",
    "c = lambda l : sorted(l)\n",
    "c(l)"
   ]
  },
  {
   "cell_type": "code",
   "execution_count": 35,
   "id": "d25a72e7-aa6c-423a-8018-bf494a6ed2e8",
   "metadata": {},
   "outputs": [
    {
     "data": {
      "text/plain": [
       "[1, 4, 9, 16, 25, 36, 49, 64, 81, 100]"
      ]
     },
     "execution_count": 35,
     "metadata": {},
     "output_type": "execute_result"
    }
   ],
   "source": [
    "#Find the squares of numbers from 1 to 10\n",
    "\n",
    "[i**2 for i in range(1 , 11)]"
   ]
  },
  {
   "cell_type": "code",
   "execution_count": 37,
   "id": "f8878a0c-7d25-46dc-a073-906a2ccd47c1",
   "metadata": {},
   "outputs": [
    {
     "data": {
      "text/plain": [
       "[1.0,\n",
       " 1.2599210498948732,\n",
       " 1.4422495703074083,\n",
       " 1.5874010519681994,\n",
       " 1.7099759466766968,\n",
       " 1.8171205928321397,\n",
       " 1.912931182772389,\n",
       " 2.0,\n",
       " 2.080083823051904,\n",
       " 2.154434690031884]"
      ]
     },
     "execution_count": 37,
     "metadata": {},
     "output_type": "execute_result"
    }
   ],
   "source": [
    "#Find the cube root of numbers from 1 to 10\n",
    "\n",
    "[i**(1/3) for i in range(1 , 11)]"
   ]
  },
  {
   "cell_type": "code",
   "execution_count": 42,
   "id": "02a3c22d-18f5-4e3a-bc81-3c5bb882b271",
   "metadata": {},
   "outputs": [
    {
     "name": "stdout",
     "output_type": "stream",
     "text": [
      "True\n",
      "False\n",
      "True\n"
     ]
    }
   ],
   "source": [
    "# Check if a given number is even\n",
    "\n",
    "a = lambda x : x % 2 == 0\n",
    "print(a(2))\n",
    "print(a(3))\n",
    "print(a(20))"
   ]
  },
  {
   "cell_type": "code",
   "execution_count": 44,
   "id": "328fe645-b1bb-47ea-a2c9-e710573b0f37",
   "metadata": {},
   "outputs": [
    {
     "data": {
      "text/plain": [
       "[1, 3, 5, 7, 9]"
      ]
     },
     "execution_count": 44,
     "metadata": {},
     "output_type": "execute_result"
    }
   ],
   "source": [
    "# Filter odd numbers from the given list. [1,2,3,4,5,6,7,8,9,10]\n",
    "\n",
    "l = [1,2,3,4,5,6,7,8,9,10]\n",
    "list(filter(lambda x : x % 2 != 0 , l))"
   ]
  },
  {
   "cell_type": "code",
   "execution_count": 47,
   "id": "3d7ddc95-471e-4fcc-bd99-c12bd0835d75",
   "metadata": {},
   "outputs": [
    {
     "data": {
      "text/plain": [
       "[-5, -4, -3, -2, -1, 0, 1, 2, 3, 4, 5, 6]"
      ]
     },
     "execution_count": 47,
     "metadata": {},
     "output_type": "execute_result"
    }
   ],
   "source": [
    "# Sort a list of integers into positive and negative integers lists. [1,2,3,4,5,6,-1,-2,-3,-4,-5,0]\n",
    "\n",
    "l = [1,2,3,4,5,6,-1,-2,-3,-4,-5,0]\n",
    "a = lambda l : sorted(l)\n",
    "a(l)"
   ]
  },
  {
   "cell_type": "code",
   "execution_count": null,
   "id": "85104bc8-a8dd-4be0-bef5-6e6662c46ed2",
   "metadata": {},
   "outputs": [],
   "source": []
  }
 ],
 "metadata": {
  "kernelspec": {
   "display_name": "Python 3 (ipykernel)",
   "language": "python",
   "name": "python3"
  },
  "language_info": {
   "codemirror_mode": {
    "name": "ipython",
    "version": 3
   },
   "file_extension": ".py",
   "mimetype": "text/x-python",
   "name": "python",
   "nbconvert_exporter": "python",
   "pygments_lexer": "ipython3",
   "version": "3.10.8"
  }
 },
 "nbformat": 4,
 "nbformat_minor": 5
}
